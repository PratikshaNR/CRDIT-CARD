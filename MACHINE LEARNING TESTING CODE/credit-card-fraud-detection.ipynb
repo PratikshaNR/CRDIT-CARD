{
 "cells": [
  {
   "cell_type": "code",
   "execution_count": 3,
   "id": "9b0910b5",
   "metadata": {
    "execution": {
     "iopub.execute_input": "2023-08-02T07:27:01.168097Z",
     "iopub.status.busy": "2023-08-02T07:27:01.167698Z",
     "iopub.status.idle": "2023-08-02T07:27:02.716354Z",
     "shell.execute_reply": "2023-08-02T07:27:02.715027Z"
    },
    "papermill": {
     "duration": 1.565993,
     "end_time": "2023-08-02T07:27:02.719487",
     "exception": false,
     "start_time": "2023-08-02T07:27:01.153494",
     "status": "completed"
    },
    "tags": []
   },
   "outputs": [],
   "source": [
    "import numpy as np\n",
    "import pandas as pd\n",
    "from sklearn.model_selection import train_test_split\n",
    "from sklearn.linear_model import LogisticRegression\n",
    "from sklearn.metrics import accuracy_score"
   ]
  },
  {
   "cell_type": "code",
   "execution_count": 4,
   "id": "ba752261",
   "metadata": {
    "execution": {
     "iopub.execute_input": "2023-08-02T07:27:02.749250Z",
     "iopub.status.busy": "2023-08-02T07:27:02.748074Z",
     "iopub.status.idle": "2023-08-02T07:27:07.733057Z",
     "shell.execute_reply": "2023-08-02T07:27:07.731973Z"
    },
    "papermill": {
     "duration": 5.003842,
     "end_time": "2023-08-02T07:27:07.735962",
     "exception": false,
     "start_time": "2023-08-02T07:27:02.732120",
     "status": "completed"
    },
    "tags": []
   },
   "outputs": [],
   "source": [
    "df = pd.read_csv(r\"C:\\Users\\Pratiksha\\OneDrive\\Desktop\\credit card fraud123\\credit card fraud123\\CRDIT CARD\\MACHINE LEARNING TESTING CODE\\creditcard.csv\")"
   ]
  },
  {
   "cell_type": "code",
   "execution_count": 5,
   "id": "8d735e0f",
   "metadata": {
    "execution": {
     "iopub.execute_input": "2023-08-02T07:27:07.763688Z",
     "iopub.status.busy": "2023-08-02T07:27:07.763249Z",
     "iopub.status.idle": "2023-08-02T07:27:07.806278Z",
     "shell.execute_reply": "2023-08-02T07:27:07.805002Z"
    },
    "papermill": {
     "duration": 0.060129,
     "end_time": "2023-08-02T07:27:07.808767",
     "exception": false,
     "start_time": "2023-08-02T07:27:07.748638",
     "status": "completed"
    },
    "tags": []
   },
   "outputs": [
    {
     "data": {
      "text/html": [
       "<div>\n",
       "<style scoped>\n",
       "    .dataframe tbody tr th:only-of-type {\n",
       "        vertical-align: middle;\n",
       "    }\n",
       "\n",
       "    .dataframe tbody tr th {\n",
       "        vertical-align: top;\n",
       "    }\n",
       "\n",
       "    .dataframe thead th {\n",
       "        text-align: right;\n",
       "    }\n",
       "</style>\n",
       "<table border=\"1\" class=\"dataframe\">\n",
       "  <thead>\n",
       "    <tr style=\"text-align: right;\">\n",
       "      <th></th>\n",
       "      <th>Time</th>\n",
       "      <th>V1</th>\n",
       "      <th>V2</th>\n",
       "      <th>V3</th>\n",
       "      <th>V4</th>\n",
       "      <th>V5</th>\n",
       "      <th>V6</th>\n",
       "      <th>V7</th>\n",
       "      <th>V8</th>\n",
       "      <th>V9</th>\n",
       "      <th>...</th>\n",
       "      <th>V21</th>\n",
       "      <th>V22</th>\n",
       "      <th>V23</th>\n",
       "      <th>V24</th>\n",
       "      <th>V25</th>\n",
       "      <th>V26</th>\n",
       "      <th>V27</th>\n",
       "      <th>V28</th>\n",
       "      <th>Amount</th>\n",
       "      <th>Class</th>\n",
       "    </tr>\n",
       "  </thead>\n",
       "  <tbody>\n",
       "    <tr>\n",
       "      <th>0</th>\n",
       "      <td>0.0</td>\n",
       "      <td>-1.359807</td>\n",
       "      <td>-0.072781</td>\n",
       "      <td>2.536347</td>\n",
       "      <td>1.378155</td>\n",
       "      <td>-0.338321</td>\n",
       "      <td>0.462388</td>\n",
       "      <td>0.239599</td>\n",
       "      <td>0.098698</td>\n",
       "      <td>0.363787</td>\n",
       "      <td>...</td>\n",
       "      <td>-0.018307</td>\n",
       "      <td>0.277838</td>\n",
       "      <td>-0.110474</td>\n",
       "      <td>0.066928</td>\n",
       "      <td>0.128539</td>\n",
       "      <td>-0.189115</td>\n",
       "      <td>0.133558</td>\n",
       "      <td>-0.021053</td>\n",
       "      <td>149.62</td>\n",
       "      <td>0</td>\n",
       "    </tr>\n",
       "    <tr>\n",
       "      <th>1</th>\n",
       "      <td>0.0</td>\n",
       "      <td>1.191857</td>\n",
       "      <td>0.266151</td>\n",
       "      <td>0.166480</td>\n",
       "      <td>0.448154</td>\n",
       "      <td>0.060018</td>\n",
       "      <td>-0.082361</td>\n",
       "      <td>-0.078803</td>\n",
       "      <td>0.085102</td>\n",
       "      <td>-0.255425</td>\n",
       "      <td>...</td>\n",
       "      <td>-0.225775</td>\n",
       "      <td>-0.638672</td>\n",
       "      <td>0.101288</td>\n",
       "      <td>-0.339846</td>\n",
       "      <td>0.167170</td>\n",
       "      <td>0.125895</td>\n",
       "      <td>-0.008983</td>\n",
       "      <td>0.014724</td>\n",
       "      <td>2.69</td>\n",
       "      <td>0</td>\n",
       "    </tr>\n",
       "    <tr>\n",
       "      <th>2</th>\n",
       "      <td>1.0</td>\n",
       "      <td>-1.358354</td>\n",
       "      <td>-1.340163</td>\n",
       "      <td>1.773209</td>\n",
       "      <td>0.379780</td>\n",
       "      <td>-0.503198</td>\n",
       "      <td>1.800499</td>\n",
       "      <td>0.791461</td>\n",
       "      <td>0.247676</td>\n",
       "      <td>-1.514654</td>\n",
       "      <td>...</td>\n",
       "      <td>0.247998</td>\n",
       "      <td>0.771679</td>\n",
       "      <td>0.909412</td>\n",
       "      <td>-0.689281</td>\n",
       "      <td>-0.327642</td>\n",
       "      <td>-0.139097</td>\n",
       "      <td>-0.055353</td>\n",
       "      <td>-0.059752</td>\n",
       "      <td>378.66</td>\n",
       "      <td>0</td>\n",
       "    </tr>\n",
       "    <tr>\n",
       "      <th>3</th>\n",
       "      <td>1.0</td>\n",
       "      <td>-0.966272</td>\n",
       "      <td>-0.185226</td>\n",
       "      <td>1.792993</td>\n",
       "      <td>-0.863291</td>\n",
       "      <td>-0.010309</td>\n",
       "      <td>1.247203</td>\n",
       "      <td>0.237609</td>\n",
       "      <td>0.377436</td>\n",
       "      <td>-1.387024</td>\n",
       "      <td>...</td>\n",
       "      <td>-0.108300</td>\n",
       "      <td>0.005274</td>\n",
       "      <td>-0.190321</td>\n",
       "      <td>-1.175575</td>\n",
       "      <td>0.647376</td>\n",
       "      <td>-0.221929</td>\n",
       "      <td>0.062723</td>\n",
       "      <td>0.061458</td>\n",
       "      <td>123.50</td>\n",
       "      <td>0</td>\n",
       "    </tr>\n",
       "    <tr>\n",
       "      <th>4</th>\n",
       "      <td>2.0</td>\n",
       "      <td>-1.158233</td>\n",
       "      <td>0.877737</td>\n",
       "      <td>1.548718</td>\n",
       "      <td>0.403034</td>\n",
       "      <td>-0.407193</td>\n",
       "      <td>0.095921</td>\n",
       "      <td>0.592941</td>\n",
       "      <td>-0.270533</td>\n",
       "      <td>0.817739</td>\n",
       "      <td>...</td>\n",
       "      <td>-0.009431</td>\n",
       "      <td>0.798278</td>\n",
       "      <td>-0.137458</td>\n",
       "      <td>0.141267</td>\n",
       "      <td>-0.206010</td>\n",
       "      <td>0.502292</td>\n",
       "      <td>0.219422</td>\n",
       "      <td>0.215153</td>\n",
       "      <td>69.99</td>\n",
       "      <td>0</td>\n",
       "    </tr>\n",
       "  </tbody>\n",
       "</table>\n",
       "<p>5 rows × 31 columns</p>\n",
       "</div>"
      ],
      "text/plain": [
       "   Time        V1        V2        V3        V4        V5        V6        V7  \\\n",
       "0   0.0 -1.359807 -0.072781  2.536347  1.378155 -0.338321  0.462388  0.239599   \n",
       "1   0.0  1.191857  0.266151  0.166480  0.448154  0.060018 -0.082361 -0.078803   \n",
       "2   1.0 -1.358354 -1.340163  1.773209  0.379780 -0.503198  1.800499  0.791461   \n",
       "3   1.0 -0.966272 -0.185226  1.792993 -0.863291 -0.010309  1.247203  0.237609   \n",
       "4   2.0 -1.158233  0.877737  1.548718  0.403034 -0.407193  0.095921  0.592941   \n",
       "\n",
       "         V8        V9  ...       V21       V22       V23       V24       V25  \\\n",
       "0  0.098698  0.363787  ... -0.018307  0.277838 -0.110474  0.066928  0.128539   \n",
       "1  0.085102 -0.255425  ... -0.225775 -0.638672  0.101288 -0.339846  0.167170   \n",
       "2  0.247676 -1.514654  ...  0.247998  0.771679  0.909412 -0.689281 -0.327642   \n",
       "3  0.377436 -1.387024  ... -0.108300  0.005274 -0.190321 -1.175575  0.647376   \n",
       "4 -0.270533  0.817739  ... -0.009431  0.798278 -0.137458  0.141267 -0.206010   \n",
       "\n",
       "        V26       V27       V28  Amount  Class  \n",
       "0 -0.189115  0.133558 -0.021053  149.62      0  \n",
       "1  0.125895 -0.008983  0.014724    2.69      0  \n",
       "2 -0.139097 -0.055353 -0.059752  378.66      0  \n",
       "3 -0.221929  0.062723  0.061458  123.50      0  \n",
       "4  0.502292  0.219422  0.215153   69.99      0  \n",
       "\n",
       "[5 rows x 31 columns]"
      ]
     },
     "execution_count": 5,
     "metadata": {},
     "output_type": "execute_result"
    }
   ],
   "source": [
    "df.head()"
   ]
  },
  {
   "cell_type": "code",
   "execution_count": 6,
   "id": "016ad9f2",
   "metadata": {
    "execution": {
     "iopub.execute_input": "2023-08-02T07:27:07.837786Z",
     "iopub.status.busy": "2023-08-02T07:27:07.836464Z",
     "iopub.status.idle": "2023-08-02T07:27:07.882443Z",
     "shell.execute_reply": "2023-08-02T07:27:07.881620Z"
    },
    "papermill": {
     "duration": 0.062964,
     "end_time": "2023-08-02T07:27:07.884960",
     "exception": false,
     "start_time": "2023-08-02T07:27:07.821996",
     "status": "completed"
    },
    "tags": []
   },
   "outputs": [
    {
     "name": "stdout",
     "output_type": "stream",
     "text": [
      "<class 'pandas.core.frame.DataFrame'>\n",
      "RangeIndex: 284807 entries, 0 to 284806\n",
      "Data columns (total 31 columns):\n",
      " #   Column  Non-Null Count   Dtype  \n",
      "---  ------  --------------   -----  \n",
      " 0   Time    284807 non-null  float64\n",
      " 1   V1      284807 non-null  float64\n",
      " 2   V2      284807 non-null  float64\n",
      " 3   V3      284807 non-null  float64\n",
      " 4   V4      284807 non-null  float64\n",
      " 5   V5      284807 non-null  float64\n",
      " 6   V6      284807 non-null  float64\n",
      " 7   V7      284807 non-null  float64\n",
      " 8   V8      284807 non-null  float64\n",
      " 9   V9      284807 non-null  float64\n",
      " 10  V10     284807 non-null  float64\n",
      " 11  V11     284807 non-null  float64\n",
      " 12  V12     284807 non-null  float64\n",
      " 13  V13     284807 non-null  float64\n",
      " 14  V14     284807 non-null  float64\n",
      " 15  V15     284807 non-null  float64\n",
      " 16  V16     284807 non-null  float64\n",
      " 17  V17     284807 non-null  float64\n",
      " 18  V18     284807 non-null  float64\n",
      " 19  V19     284807 non-null  float64\n",
      " 20  V20     284807 non-null  float64\n",
      " 21  V21     284807 non-null  float64\n",
      " 22  V22     284807 non-null  float64\n",
      " 23  V23     284807 non-null  float64\n",
      " 24  V24     284807 non-null  float64\n",
      " 25  V25     284807 non-null  float64\n",
      " 26  V26     284807 non-null  float64\n",
      " 27  V27     284807 non-null  float64\n",
      " 28  V28     284807 non-null  float64\n",
      " 29  Amount  284807 non-null  float64\n",
      " 30  Class   284807 non-null  int64  \n",
      "dtypes: float64(30), int64(1)\n",
      "memory usage: 67.4 MB\n"
     ]
    }
   ],
   "source": [
    "df.info()"
   ]
  },
  {
   "cell_type": "code",
   "execution_count": 7,
   "id": "27dc13bd",
   "metadata": {
    "execution": {
     "iopub.execute_input": "2023-08-02T07:27:07.914479Z",
     "iopub.status.busy": "2023-08-02T07:27:07.913185Z",
     "iopub.status.idle": "2023-08-02T07:27:07.921302Z",
     "shell.execute_reply": "2023-08-02T07:27:07.920089Z"
    },
    "papermill": {
     "duration": 0.02532,
     "end_time": "2023-08-02T07:27:07.923509",
     "exception": false,
     "start_time": "2023-08-02T07:27:07.898189",
     "status": "completed"
    },
    "tags": []
   },
   "outputs": [
    {
     "data": {
      "text/plain": [
       "(284807, 31)"
      ]
     },
     "execution_count": 7,
     "metadata": {},
     "output_type": "execute_result"
    }
   ],
   "source": [
    "df.shape"
   ]
  },
  {
   "cell_type": "code",
   "execution_count": 8,
   "id": "8d74df2e",
   "metadata": {
    "execution": {
     "iopub.execute_input": "2023-08-02T07:27:07.952462Z",
     "iopub.status.busy": "2023-08-02T07:27:07.951679Z",
     "iopub.status.idle": "2023-08-02T07:27:07.964396Z",
     "shell.execute_reply": "2023-08-02T07:27:07.963169Z"
    },
    "papermill": {
     "duration": 0.030273,
     "end_time": "2023-08-02T07:27:07.967141",
     "exception": false,
     "start_time": "2023-08-02T07:27:07.936868",
     "status": "completed"
    },
    "tags": []
   },
   "outputs": [
    {
     "data": {
      "text/plain": [
       "Class\n",
       "0    284315\n",
       "1       492\n",
       "Name: count, dtype: int64"
      ]
     },
     "execution_count": 8,
     "metadata": {},
     "output_type": "execute_result"
    }
   ],
   "source": [
    "df[\"Class\"].value_counts()"
   ]
  },
  {
   "cell_type": "markdown",
   "id": "b925bebb",
   "metadata": {
    "papermill": {
     "duration": 0.013683,
     "end_time": "2023-08-02T07:27:07.994520",
     "exception": false,
     "start_time": "2023-08-02T07:27:07.980837",
     "status": "completed"
    },
    "tags": []
   },
   "source": [
    "THIS DATASET IS HIGHLY UNBALANCED"
   ]
  },
  {
   "cell_type": "markdown",
   "id": "0286152b",
   "metadata": {
    "papermill": {
     "duration": 0.013105,
     "end_time": "2023-08-02T07:27:08.021715",
     "exception": false,
     "start_time": "2023-08-02T07:27:08.008610",
     "status": "completed"
    },
    "tags": []
   },
   "source": [
    "   0 -> NORMAL TRANSACTION,\n",
    "   1 -> FRAUDULENT TRANSACTION"
   ]
  },
  {
   "cell_type": "markdown",
   "id": "8d48c049",
   "metadata": {
    "papermill": {
     "duration": 0.013054,
     "end_time": "2023-08-02T07:27:08.048235",
     "exception": false,
     "start_time": "2023-08-02T07:27:08.035181",
     "status": "completed"
    },
    "tags": []
   },
   "source": [
    "**SEPARATING DATA FOR ANALYSIS**"
   ]
  },
  {
   "cell_type": "code",
   "execution_count": 9,
   "id": "d9ee8ba3",
   "metadata": {
    "execution": {
     "iopub.execute_input": "2023-08-02T07:27:08.077016Z",
     "iopub.status.busy": "2023-08-02T07:27:08.076565Z",
     "iopub.status.idle": "2023-08-02T07:27:08.135071Z",
     "shell.execute_reply": "2023-08-02T07:27:08.133834Z"
    },
    "papermill": {
     "duration": 0.076608,
     "end_time": "2023-08-02T07:27:08.138474",
     "exception": false,
     "start_time": "2023-08-02T07:27:08.061866",
     "status": "completed"
    },
    "tags": []
   },
   "outputs": [],
   "source": [
    "legit = df[df.Class == 0]\n",
    "fraud = df[df.Class == 1]"
   ]
  },
  {
   "cell_type": "markdown",
   "id": "840874e4",
   "metadata": {
    "papermill": {
     "duration": 0.013575,
     "end_time": "2023-08-02T07:27:08.165966",
     "exception": false,
     "start_time": "2023-08-02T07:27:08.152391",
     "status": "completed"
    },
    "tags": []
   },
   "source": [
    "**STATISTICAL MEASURE OF DATA**"
   ]
  },
  {
   "cell_type": "code",
   "execution_count": 10,
   "id": "9623fb79",
   "metadata": {
    "execution": {
     "iopub.execute_input": "2023-08-02T07:27:08.196270Z",
     "iopub.status.busy": "2023-08-02T07:27:08.194865Z",
     "iopub.status.idle": "2023-08-02T07:27:08.221633Z",
     "shell.execute_reply": "2023-08-02T07:27:08.220367Z"
    },
    "papermill": {
     "duration": 0.044881,
     "end_time": "2023-08-02T07:27:08.224517",
     "exception": false,
     "start_time": "2023-08-02T07:27:08.179636",
     "status": "completed"
    },
    "tags": []
   },
   "outputs": [
    {
     "data": {
      "text/plain": [
       "count    284315.000000\n",
       "mean         88.291022\n",
       "std         250.105092\n",
       "min           0.000000\n",
       "25%           5.650000\n",
       "50%          22.000000\n",
       "75%          77.050000\n",
       "max       25691.160000\n",
       "Name: Amount, dtype: float64"
      ]
     },
     "execution_count": 10,
     "metadata": {},
     "output_type": "execute_result"
    }
   ],
   "source": [
    "legit.Amount.describe()"
   ]
  },
  {
   "cell_type": "code",
   "execution_count": 11,
   "id": "8e201dce",
   "metadata": {
    "execution": {
     "iopub.execute_input": "2023-08-02T07:27:08.254326Z",
     "iopub.status.busy": "2023-08-02T07:27:08.253601Z",
     "iopub.status.idle": "2023-08-02T07:27:08.265184Z",
     "shell.execute_reply": "2023-08-02T07:27:08.263862Z"
    },
    "papermill": {
     "duration": 0.029601,
     "end_time": "2023-08-02T07:27:08.267982",
     "exception": false,
     "start_time": "2023-08-02T07:27:08.238381",
     "status": "completed"
    },
    "tags": []
   },
   "outputs": [
    {
     "data": {
      "text/plain": [
       "count     492.000000\n",
       "mean      122.211321\n",
       "std       256.683288\n",
       "min         0.000000\n",
       "25%         1.000000\n",
       "50%         9.250000\n",
       "75%       105.890000\n",
       "max      2125.870000\n",
       "Name: Amount, dtype: float64"
      ]
     },
     "execution_count": 11,
     "metadata": {},
     "output_type": "execute_result"
    }
   ],
   "source": [
    "fraud.Amount.describe()"
   ]
  },
  {
   "cell_type": "markdown",
   "id": "9c08cd84",
   "metadata": {
    "papermill": {
     "duration": 0.013709,
     "end_time": "2023-08-02T07:27:08.296000",
     "exception": false,
     "start_time": "2023-08-02T07:27:08.282291",
     "status": "completed"
    },
    "tags": []
   },
   "source": [
    "COMPARE THE VALUES FOR BOTH TRANSACTIONS"
   ]
  },
  {
   "cell_type": "code",
   "execution_count": 12,
   "id": "33b7055d",
   "metadata": {
    "execution": {
     "iopub.execute_input": "2023-08-02T07:27:08.325962Z",
     "iopub.status.busy": "2023-08-02T07:27:08.325520Z",
     "iopub.status.idle": "2023-08-02T07:27:08.430237Z",
     "shell.execute_reply": "2023-08-02T07:27:08.428726Z"
    },
    "papermill": {
     "duration": 0.123251,
     "end_time": "2023-08-02T07:27:08.433497",
     "exception": false,
     "start_time": "2023-08-02T07:27:08.310246",
     "status": "completed"
    },
    "tags": []
   },
   "outputs": [
    {
     "data": {
      "text/html": [
       "<div>\n",
       "<style scoped>\n",
       "    .dataframe tbody tr th:only-of-type {\n",
       "        vertical-align: middle;\n",
       "    }\n",
       "\n",
       "    .dataframe tbody tr th {\n",
       "        vertical-align: top;\n",
       "    }\n",
       "\n",
       "    .dataframe thead th {\n",
       "        text-align: right;\n",
       "    }\n",
       "</style>\n",
       "<table border=\"1\" class=\"dataframe\">\n",
       "  <thead>\n",
       "    <tr style=\"text-align: right;\">\n",
       "      <th></th>\n",
       "      <th>Time</th>\n",
       "      <th>V1</th>\n",
       "      <th>V2</th>\n",
       "      <th>V3</th>\n",
       "      <th>V4</th>\n",
       "      <th>V5</th>\n",
       "      <th>V6</th>\n",
       "      <th>V7</th>\n",
       "      <th>V8</th>\n",
       "      <th>V9</th>\n",
       "      <th>...</th>\n",
       "      <th>V20</th>\n",
       "      <th>V21</th>\n",
       "      <th>V22</th>\n",
       "      <th>V23</th>\n",
       "      <th>V24</th>\n",
       "      <th>V25</th>\n",
       "      <th>V26</th>\n",
       "      <th>V27</th>\n",
       "      <th>V28</th>\n",
       "      <th>Amount</th>\n",
       "    </tr>\n",
       "    <tr>\n",
       "      <th>Class</th>\n",
       "      <th></th>\n",
       "      <th></th>\n",
       "      <th></th>\n",
       "      <th></th>\n",
       "      <th></th>\n",
       "      <th></th>\n",
       "      <th></th>\n",
       "      <th></th>\n",
       "      <th></th>\n",
       "      <th></th>\n",
       "      <th></th>\n",
       "      <th></th>\n",
       "      <th></th>\n",
       "      <th></th>\n",
       "      <th></th>\n",
       "      <th></th>\n",
       "      <th></th>\n",
       "      <th></th>\n",
       "      <th></th>\n",
       "      <th></th>\n",
       "      <th></th>\n",
       "    </tr>\n",
       "  </thead>\n",
       "  <tbody>\n",
       "    <tr>\n",
       "      <th>0</th>\n",
       "      <td>94838.202258</td>\n",
       "      <td>0.008258</td>\n",
       "      <td>-0.006271</td>\n",
       "      <td>0.012171</td>\n",
       "      <td>-0.007860</td>\n",
       "      <td>0.005453</td>\n",
       "      <td>0.002419</td>\n",
       "      <td>0.009637</td>\n",
       "      <td>-0.000987</td>\n",
       "      <td>0.004467</td>\n",
       "      <td>...</td>\n",
       "      <td>-0.000644</td>\n",
       "      <td>-0.001235</td>\n",
       "      <td>-0.000024</td>\n",
       "      <td>0.000070</td>\n",
       "      <td>0.000182</td>\n",
       "      <td>-0.000072</td>\n",
       "      <td>-0.000089</td>\n",
       "      <td>-0.000295</td>\n",
       "      <td>-0.000131</td>\n",
       "      <td>88.291022</td>\n",
       "    </tr>\n",
       "    <tr>\n",
       "      <th>1</th>\n",
       "      <td>80746.806911</td>\n",
       "      <td>-4.771948</td>\n",
       "      <td>3.623778</td>\n",
       "      <td>-7.033281</td>\n",
       "      <td>4.542029</td>\n",
       "      <td>-3.151225</td>\n",
       "      <td>-1.397737</td>\n",
       "      <td>-5.568731</td>\n",
       "      <td>0.570636</td>\n",
       "      <td>-2.581123</td>\n",
       "      <td>...</td>\n",
       "      <td>0.372319</td>\n",
       "      <td>0.713588</td>\n",
       "      <td>0.014049</td>\n",
       "      <td>-0.040308</td>\n",
       "      <td>-0.105130</td>\n",
       "      <td>0.041449</td>\n",
       "      <td>0.051648</td>\n",
       "      <td>0.170575</td>\n",
       "      <td>0.075667</td>\n",
       "      <td>122.211321</td>\n",
       "    </tr>\n",
       "  </tbody>\n",
       "</table>\n",
       "<p>2 rows × 30 columns</p>\n",
       "</div>"
      ],
      "text/plain": [
       "               Time        V1        V2        V3        V4        V5  \\\n",
       "Class                                                                   \n",
       "0      94838.202258  0.008258 -0.006271  0.012171 -0.007860  0.005453   \n",
       "1      80746.806911 -4.771948  3.623778 -7.033281  4.542029 -3.151225   \n",
       "\n",
       "             V6        V7        V8        V9  ...       V20       V21  \\\n",
       "Class                                          ...                       \n",
       "0      0.002419  0.009637 -0.000987  0.004467  ... -0.000644 -0.001235   \n",
       "1     -1.397737 -5.568731  0.570636 -2.581123  ...  0.372319  0.713588   \n",
       "\n",
       "            V22       V23       V24       V25       V26       V27       V28  \\\n",
       "Class                                                                         \n",
       "0     -0.000024  0.000070  0.000182 -0.000072 -0.000089 -0.000295 -0.000131   \n",
       "1      0.014049 -0.040308 -0.105130  0.041449  0.051648  0.170575  0.075667   \n",
       "\n",
       "           Amount  \n",
       "Class              \n",
       "0       88.291022  \n",
       "1      122.211321  \n",
       "\n",
       "[2 rows x 30 columns]"
      ]
     },
     "execution_count": 12,
     "metadata": {},
     "output_type": "execute_result"
    }
   ],
   "source": [
    "df.groupby(\"Class\").mean()"
   ]
  },
  {
   "cell_type": "markdown",
   "id": "a2934540",
   "metadata": {
    "papermill": {
     "duration": 0.014113,
     "end_time": "2023-08-02T07:27:08.462153",
     "exception": false,
     "start_time": "2023-08-02T07:27:08.448040",
     "status": "completed"
    },
    "tags": []
   },
   "source": [
    "**UNDER SAMPLING**"
   ]
  },
  {
   "cell_type": "markdown",
   "id": "367022b4",
   "metadata": {
    "papermill": {
     "duration": 0.013862,
     "end_time": "2023-08-02T07:27:08.490232",
     "exception": false,
     "start_time": "2023-08-02T07:27:08.476370",
     "status": "completed"
    },
    "tags": []
   },
   "source": [
    "BUILD A SAMPLE DATASET CONTAINING SIMILAR DISTRIBUTION OF NORMAL TRANSACTIONS AND FRAUDULENT TRANSACTIONS"
   ]
  },
  {
   "cell_type": "markdown",
   "id": "243a80e5",
   "metadata": {
    "papermill": {
     "duration": 0.017771,
     "end_time": "2023-08-02T07:27:08.522306",
     "exception": false,
     "start_time": "2023-08-02T07:27:08.504535",
     "status": "completed"
    },
    "tags": []
   },
   "source": [
    "NUMBER OF FRAUDULENT TRANSACTIONS -> 492"
   ]
  },
  {
   "cell_type": "code",
   "execution_count": 13,
   "id": "83c810f6",
   "metadata": {
    "execution": {
     "iopub.execute_input": "2023-08-02T07:27:08.558312Z",
     "iopub.status.busy": "2023-08-02T07:27:08.557890Z",
     "iopub.status.idle": "2023-08-02T07:27:08.576842Z",
     "shell.execute_reply": "2023-08-02T07:27:08.575423Z"
    },
    "papermill": {
     "duration": 0.042156,
     "end_time": "2023-08-02T07:27:08.579987",
     "exception": false,
     "start_time": "2023-08-02T07:27:08.537831",
     "status": "completed"
    },
    "tags": []
   },
   "outputs": [],
   "source": [
    "legit_sample = legit.sample(n=492)"
   ]
  },
  {
   "cell_type": "markdown",
   "id": "169b9fa8",
   "metadata": {
    "papermill": {
     "duration": 0.016176,
     "end_time": "2023-08-02T07:27:08.617509",
     "exception": false,
     "start_time": "2023-08-02T07:27:08.601333",
     "status": "completed"
    },
    "tags": []
   },
   "source": [
    "**CONCATENATING TWO DATAFRAMES**"
   ]
  },
  {
   "cell_type": "code",
   "execution_count": 14,
   "id": "489982c4",
   "metadata": {
    "execution": {
     "iopub.execute_input": "2023-08-02T07:27:08.648184Z",
     "iopub.status.busy": "2023-08-02T07:27:08.647762Z",
     "iopub.status.idle": "2023-08-02T07:27:08.655154Z",
     "shell.execute_reply": "2023-08-02T07:27:08.653872Z"
    },
    "papermill": {
     "duration": 0.026188,
     "end_time": "2023-08-02T07:27:08.657989",
     "exception": false,
     "start_time": "2023-08-02T07:27:08.631801",
     "status": "completed"
    },
    "tags": []
   },
   "outputs": [],
   "source": [
    "new_df = pd.concat([legit_sample , fraud], axis = 0)"
   ]
  },
  {
   "cell_type": "code",
   "execution_count": 15,
   "id": "637132c4",
   "metadata": {
    "execution": {
     "iopub.execute_input": "2023-08-02T07:27:08.688954Z",
     "iopub.status.busy": "2023-08-02T07:27:08.688497Z",
     "iopub.status.idle": "2023-08-02T07:27:08.719431Z",
     "shell.execute_reply": "2023-08-02T07:27:08.718197Z"
    },
    "papermill": {
     "duration": 0.049383,
     "end_time": "2023-08-02T07:27:08.722120",
     "exception": false,
     "start_time": "2023-08-02T07:27:08.672737",
     "status": "completed"
    },
    "tags": []
   },
   "outputs": [
    {
     "data": {
      "text/html": [
       "<div>\n",
       "<style scoped>\n",
       "    .dataframe tbody tr th:only-of-type {\n",
       "        vertical-align: middle;\n",
       "    }\n",
       "\n",
       "    .dataframe tbody tr th {\n",
       "        vertical-align: top;\n",
       "    }\n",
       "\n",
       "    .dataframe thead th {\n",
       "        text-align: right;\n",
       "    }\n",
       "</style>\n",
       "<table border=\"1\" class=\"dataframe\">\n",
       "  <thead>\n",
       "    <tr style=\"text-align: right;\">\n",
       "      <th></th>\n",
       "      <th>Time</th>\n",
       "      <th>V1</th>\n",
       "      <th>V2</th>\n",
       "      <th>V3</th>\n",
       "      <th>V4</th>\n",
       "      <th>V5</th>\n",
       "      <th>V6</th>\n",
       "      <th>V7</th>\n",
       "      <th>V8</th>\n",
       "      <th>V9</th>\n",
       "      <th>...</th>\n",
       "      <th>V21</th>\n",
       "      <th>V22</th>\n",
       "      <th>V23</th>\n",
       "      <th>V24</th>\n",
       "      <th>V25</th>\n",
       "      <th>V26</th>\n",
       "      <th>V27</th>\n",
       "      <th>V28</th>\n",
       "      <th>Amount</th>\n",
       "      <th>Class</th>\n",
       "    </tr>\n",
       "  </thead>\n",
       "  <tbody>\n",
       "    <tr>\n",
       "      <th>44911</th>\n",
       "      <td>42134.0</td>\n",
       "      <td>1.265980</td>\n",
       "      <td>-0.107227</td>\n",
       "      <td>0.478782</td>\n",
       "      <td>-0.252992</td>\n",
       "      <td>-0.605158</td>\n",
       "      <td>-0.521576</td>\n",
       "      <td>-0.346527</td>\n",
       "      <td>0.025246</td>\n",
       "      <td>0.217486</td>\n",
       "      <td>...</td>\n",
       "      <td>-0.109233</td>\n",
       "      <td>-0.352369</td>\n",
       "      <td>0.050229</td>\n",
       "      <td>0.055101</td>\n",
       "      <td>0.118561</td>\n",
       "      <td>0.908723</td>\n",
       "      <td>-0.077280</td>\n",
       "      <td>-0.005138</td>\n",
       "      <td>0.77</td>\n",
       "      <td>0</td>\n",
       "    </tr>\n",
       "    <tr>\n",
       "      <th>100286</th>\n",
       "      <td>67472.0</td>\n",
       "      <td>1.446530</td>\n",
       "      <td>-1.355996</td>\n",
       "      <td>0.690489</td>\n",
       "      <td>-1.530113</td>\n",
       "      <td>-1.307308</td>\n",
       "      <td>0.783112</td>\n",
       "      <td>-1.549097</td>\n",
       "      <td>0.159125</td>\n",
       "      <td>-1.440798</td>\n",
       "      <td>...</td>\n",
       "      <td>-0.243213</td>\n",
       "      <td>-0.150216</td>\n",
       "      <td>-0.160351</td>\n",
       "      <td>-0.997767</td>\n",
       "      <td>0.440856</td>\n",
       "      <td>-0.136682</td>\n",
       "      <td>0.078019</td>\n",
       "      <td>0.017321</td>\n",
       "      <td>44.00</td>\n",
       "      <td>0</td>\n",
       "    </tr>\n",
       "    <tr>\n",
       "      <th>102384</th>\n",
       "      <td>68180.0</td>\n",
       "      <td>1.015489</td>\n",
       "      <td>-1.111345</td>\n",
       "      <td>-0.856391</td>\n",
       "      <td>-1.773597</td>\n",
       "      <td>1.155772</td>\n",
       "      <td>3.513922</td>\n",
       "      <td>-0.989261</td>\n",
       "      <td>0.922154</td>\n",
       "      <td>1.692216</td>\n",
       "      <td>...</td>\n",
       "      <td>0.174986</td>\n",
       "      <td>0.299521</td>\n",
       "      <td>-0.299697</td>\n",
       "      <td>1.051257</td>\n",
       "      <td>0.733168</td>\n",
       "      <td>-0.531827</td>\n",
       "      <td>0.069812</td>\n",
       "      <td>0.052230</td>\n",
       "      <td>150.00</td>\n",
       "      <td>0</td>\n",
       "    </tr>\n",
       "    <tr>\n",
       "      <th>60758</th>\n",
       "      <td>49490.0</td>\n",
       "      <td>1.172193</td>\n",
       "      <td>0.303673</td>\n",
       "      <td>0.193468</td>\n",
       "      <td>1.065020</td>\n",
       "      <td>-0.226551</td>\n",
       "      <td>-0.869001</td>\n",
       "      <td>0.267497</td>\n",
       "      <td>-0.128741</td>\n",
       "      <td>-0.336172</td>\n",
       "      <td>...</td>\n",
       "      <td>0.038203</td>\n",
       "      <td>0.062699</td>\n",
       "      <td>-0.087294</td>\n",
       "      <td>0.531856</td>\n",
       "      <td>0.649904</td>\n",
       "      <td>-0.388250</td>\n",
       "      <td>-0.005870</td>\n",
       "      <td>0.010050</td>\n",
       "      <td>17.87</td>\n",
       "      <td>0</td>\n",
       "    </tr>\n",
       "    <tr>\n",
       "      <th>82550</th>\n",
       "      <td>59451.0</td>\n",
       "      <td>1.202792</td>\n",
       "      <td>-0.196543</td>\n",
       "      <td>0.884980</td>\n",
       "      <td>0.676082</td>\n",
       "      <td>-0.640726</td>\n",
       "      <td>0.200639</td>\n",
       "      <td>-0.570597</td>\n",
       "      <td>0.083481</td>\n",
       "      <td>0.883488</td>\n",
       "      <td>...</td>\n",
       "      <td>-0.127185</td>\n",
       "      <td>-0.179896</td>\n",
       "      <td>-0.097730</td>\n",
       "      <td>-0.387423</td>\n",
       "      <td>0.382135</td>\n",
       "      <td>0.364071</td>\n",
       "      <td>0.016462</td>\n",
       "      <td>0.023728</td>\n",
       "      <td>28.75</td>\n",
       "      <td>0</td>\n",
       "    </tr>\n",
       "  </tbody>\n",
       "</table>\n",
       "<p>5 rows × 31 columns</p>\n",
       "</div>"
      ],
      "text/plain": [
       "           Time        V1        V2        V3        V4        V5        V6  \\\n",
       "44911   42134.0  1.265980 -0.107227  0.478782 -0.252992 -0.605158 -0.521576   \n",
       "100286  67472.0  1.446530 -1.355996  0.690489 -1.530113 -1.307308  0.783112   \n",
       "102384  68180.0  1.015489 -1.111345 -0.856391 -1.773597  1.155772  3.513922   \n",
       "60758   49490.0  1.172193  0.303673  0.193468  1.065020 -0.226551 -0.869001   \n",
       "82550   59451.0  1.202792 -0.196543  0.884980  0.676082 -0.640726  0.200639   \n",
       "\n",
       "              V7        V8        V9  ...       V21       V22       V23  \\\n",
       "44911  -0.346527  0.025246  0.217486  ... -0.109233 -0.352369  0.050229   \n",
       "100286 -1.549097  0.159125 -1.440798  ... -0.243213 -0.150216 -0.160351   \n",
       "102384 -0.989261  0.922154  1.692216  ...  0.174986  0.299521 -0.299697   \n",
       "60758   0.267497 -0.128741 -0.336172  ...  0.038203  0.062699 -0.087294   \n",
       "82550  -0.570597  0.083481  0.883488  ... -0.127185 -0.179896 -0.097730   \n",
       "\n",
       "             V24       V25       V26       V27       V28  Amount  Class  \n",
       "44911   0.055101  0.118561  0.908723 -0.077280 -0.005138    0.77      0  \n",
       "100286 -0.997767  0.440856 -0.136682  0.078019  0.017321   44.00      0  \n",
       "102384  1.051257  0.733168 -0.531827  0.069812  0.052230  150.00      0  \n",
       "60758   0.531856  0.649904 -0.388250 -0.005870  0.010050   17.87      0  \n",
       "82550  -0.387423  0.382135  0.364071  0.016462  0.023728   28.75      0  \n",
       "\n",
       "[5 rows x 31 columns]"
      ]
     },
     "execution_count": 15,
     "metadata": {},
     "output_type": "execute_result"
    }
   ],
   "source": [
    "new_df.head()"
   ]
  },
  {
   "cell_type": "code",
   "execution_count": 16,
   "id": "2a8d0fa3",
   "metadata": {
    "execution": {
     "iopub.execute_input": "2023-08-02T07:27:08.753938Z",
     "iopub.status.busy": "2023-08-02T07:27:08.753485Z",
     "iopub.status.idle": "2023-08-02T07:27:08.763493Z",
     "shell.execute_reply": "2023-08-02T07:27:08.762295Z"
    },
    "papermill": {
     "duration": 0.028809,
     "end_time": "2023-08-02T07:27:08.765914",
     "exception": false,
     "start_time": "2023-08-02T07:27:08.737105",
     "status": "completed"
    },
    "tags": []
   },
   "outputs": [
    {
     "data": {
      "text/plain": [
       "Class\n",
       "0    492\n",
       "1    492\n",
       "Name: count, dtype: int64"
      ]
     },
     "execution_count": 16,
     "metadata": {},
     "output_type": "execute_result"
    }
   ],
   "source": [
    "new_df[\"Class\"].value_counts()"
   ]
  },
  {
   "cell_type": "code",
   "execution_count": 17,
   "id": "e6311175",
   "metadata": {
    "execution": {
     "iopub.execute_input": "2023-08-02T07:27:08.798031Z",
     "iopub.status.busy": "2023-08-02T07:27:08.797639Z",
     "iopub.status.idle": "2023-08-02T07:27:08.826900Z",
     "shell.execute_reply": "2023-08-02T07:27:08.825956Z"
    },
    "papermill": {
     "duration": 0.048424,
     "end_time": "2023-08-02T07:27:08.829388",
     "exception": false,
     "start_time": "2023-08-02T07:27:08.780964",
     "status": "completed"
    },
    "tags": []
   },
   "outputs": [
    {
     "data": {
      "text/html": [
       "<div>\n",
       "<style scoped>\n",
       "    .dataframe tbody tr th:only-of-type {\n",
       "        vertical-align: middle;\n",
       "    }\n",
       "\n",
       "    .dataframe tbody tr th {\n",
       "        vertical-align: top;\n",
       "    }\n",
       "\n",
       "    .dataframe thead th {\n",
       "        text-align: right;\n",
       "    }\n",
       "</style>\n",
       "<table border=\"1\" class=\"dataframe\">\n",
       "  <thead>\n",
       "    <tr style=\"text-align: right;\">\n",
       "      <th></th>\n",
       "      <th>Time</th>\n",
       "      <th>V1</th>\n",
       "      <th>V2</th>\n",
       "      <th>V3</th>\n",
       "      <th>V4</th>\n",
       "      <th>V5</th>\n",
       "      <th>V6</th>\n",
       "      <th>V7</th>\n",
       "      <th>V8</th>\n",
       "      <th>V9</th>\n",
       "      <th>...</th>\n",
       "      <th>V20</th>\n",
       "      <th>V21</th>\n",
       "      <th>V22</th>\n",
       "      <th>V23</th>\n",
       "      <th>V24</th>\n",
       "      <th>V25</th>\n",
       "      <th>V26</th>\n",
       "      <th>V27</th>\n",
       "      <th>V28</th>\n",
       "      <th>Amount</th>\n",
       "    </tr>\n",
       "    <tr>\n",
       "      <th>Class</th>\n",
       "      <th></th>\n",
       "      <th></th>\n",
       "      <th></th>\n",
       "      <th></th>\n",
       "      <th></th>\n",
       "      <th></th>\n",
       "      <th></th>\n",
       "      <th></th>\n",
       "      <th></th>\n",
       "      <th></th>\n",
       "      <th></th>\n",
       "      <th></th>\n",
       "      <th></th>\n",
       "      <th></th>\n",
       "      <th></th>\n",
       "      <th></th>\n",
       "      <th></th>\n",
       "      <th></th>\n",
       "      <th></th>\n",
       "      <th></th>\n",
       "      <th></th>\n",
       "    </tr>\n",
       "  </thead>\n",
       "  <tbody>\n",
       "    <tr>\n",
       "      <th>0</th>\n",
       "      <td>95215.959350</td>\n",
       "      <td>-0.100455</td>\n",
       "      <td>-0.105708</td>\n",
       "      <td>0.008452</td>\n",
       "      <td>0.085549</td>\n",
       "      <td>0.061728</td>\n",
       "      <td>-0.116640</td>\n",
       "      <td>0.001457</td>\n",
       "      <td>-0.052645</td>\n",
       "      <td>-0.008256</td>\n",
       "      <td>...</td>\n",
       "      <td>-0.017022</td>\n",
       "      <td>-0.013242</td>\n",
       "      <td>-0.005039</td>\n",
       "      <td>-0.027780</td>\n",
       "      <td>-0.029456</td>\n",
       "      <td>0.014446</td>\n",
       "      <td>0.025340</td>\n",
       "      <td>-0.007135</td>\n",
       "      <td>0.102730</td>\n",
       "      <td>94.275752</td>\n",
       "    </tr>\n",
       "    <tr>\n",
       "      <th>1</th>\n",
       "      <td>80746.806911</td>\n",
       "      <td>-4.771948</td>\n",
       "      <td>3.623778</td>\n",
       "      <td>-7.033281</td>\n",
       "      <td>4.542029</td>\n",
       "      <td>-3.151225</td>\n",
       "      <td>-1.397737</td>\n",
       "      <td>-5.568731</td>\n",
       "      <td>0.570636</td>\n",
       "      <td>-2.581123</td>\n",
       "      <td>...</td>\n",
       "      <td>0.372319</td>\n",
       "      <td>0.713588</td>\n",
       "      <td>0.014049</td>\n",
       "      <td>-0.040308</td>\n",
       "      <td>-0.105130</td>\n",
       "      <td>0.041449</td>\n",
       "      <td>0.051648</td>\n",
       "      <td>0.170575</td>\n",
       "      <td>0.075667</td>\n",
       "      <td>122.211321</td>\n",
       "    </tr>\n",
       "  </tbody>\n",
       "</table>\n",
       "<p>2 rows × 30 columns</p>\n",
       "</div>"
      ],
      "text/plain": [
       "               Time        V1        V2        V3        V4        V5  \\\n",
       "Class                                                                   \n",
       "0      95215.959350 -0.100455 -0.105708  0.008452  0.085549  0.061728   \n",
       "1      80746.806911 -4.771948  3.623778 -7.033281  4.542029 -3.151225   \n",
       "\n",
       "             V6        V7        V8        V9  ...       V20       V21  \\\n",
       "Class                                          ...                       \n",
       "0     -0.116640  0.001457 -0.052645 -0.008256  ... -0.017022 -0.013242   \n",
       "1     -1.397737 -5.568731  0.570636 -2.581123  ...  0.372319  0.713588   \n",
       "\n",
       "            V22       V23       V24       V25       V26       V27       V28  \\\n",
       "Class                                                                         \n",
       "0     -0.005039 -0.027780 -0.029456  0.014446  0.025340 -0.007135  0.102730   \n",
       "1      0.014049 -0.040308 -0.105130  0.041449  0.051648  0.170575  0.075667   \n",
       "\n",
       "           Amount  \n",
       "Class              \n",
       "0       94.275752  \n",
       "1      122.211321  \n",
       "\n",
       "[2 rows x 30 columns]"
      ]
     },
     "execution_count": 17,
     "metadata": {},
     "output_type": "execute_result"
    }
   ],
   "source": [
    "new_df.groupby(\"Class\").mean()"
   ]
  },
  {
   "cell_type": "markdown",
   "id": "7468abe6",
   "metadata": {
    "papermill": {
     "duration": 0.014639,
     "end_time": "2023-08-02T07:27:08.859636",
     "exception": false,
     "start_time": "2023-08-02T07:27:08.844997",
     "status": "completed"
    },
    "tags": []
   },
   "source": [
    "**SPLITTING THE DATA INTO FEATURES AND TARGETS**"
   ]
  },
  {
   "cell_type": "code",
   "execution_count": 18,
   "id": "ee293dc7",
   "metadata": {
    "execution": {
     "iopub.execute_input": "2023-08-02T07:27:08.891825Z",
     "iopub.status.busy": "2023-08-02T07:27:08.891129Z",
     "iopub.status.idle": "2023-08-02T07:27:08.897706Z",
     "shell.execute_reply": "2023-08-02T07:27:08.896363Z"
    },
    "papermill": {
     "duration": 0.025422,
     "end_time": "2023-08-02T07:27:08.900323",
     "exception": false,
     "start_time": "2023-08-02T07:27:08.874901",
     "status": "completed"
    },
    "tags": []
   },
   "outputs": [],
   "source": [
    "X = new_df.drop(columns = \"Class\", axis=1)\n",
    "Y = new_df[\"Class\"]"
   ]
  },
  {
   "cell_type": "code",
   "execution_count": 19,
   "id": "ad74c243",
   "metadata": {
    "execution": {
     "iopub.execute_input": "2023-08-02T07:27:08.932913Z",
     "iopub.status.busy": "2023-08-02T07:27:08.932094Z",
     "iopub.status.idle": "2023-08-02T07:27:08.952444Z",
     "shell.execute_reply": "2023-08-02T07:27:08.951187Z"
    },
    "papermill": {
     "duration": 0.039582,
     "end_time": "2023-08-02T07:27:08.955249",
     "exception": false,
     "start_time": "2023-08-02T07:27:08.915667",
     "status": "completed"
    },
    "tags": []
   },
   "outputs": [
    {
     "name": "stdout",
     "output_type": "stream",
     "text": [
      "            Time        V1        V2        V3        V4        V5        V6  \\\n",
      "44911    42134.0  1.265980 -0.107227  0.478782 -0.252992 -0.605158 -0.521576   \n",
      "100286   67472.0  1.446530 -1.355996  0.690489 -1.530113 -1.307308  0.783112   \n",
      "102384   68180.0  1.015489 -1.111345 -0.856391 -1.773597  1.155772  3.513922   \n",
      "60758    49490.0  1.172193  0.303673  0.193468  1.065020 -0.226551 -0.869001   \n",
      "82550    59451.0  1.202792 -0.196543  0.884980  0.676082 -0.640726  0.200639   \n",
      "...          ...       ...       ...       ...       ...       ...       ...   \n",
      "279863  169142.0 -1.927883  1.125653 -4.518331  1.749293 -1.566487 -2.010494   \n",
      "280143  169347.0  1.378559  1.289381 -5.004247  1.411850  0.442581 -1.326536   \n",
      "280149  169351.0 -0.676143  1.126366 -2.213700  0.468308 -1.120541 -0.003346   \n",
      "281144  169966.0 -3.113832  0.585864 -5.399730  1.817092 -0.840618 -2.943548   \n",
      "281674  170348.0  1.991976  0.158476 -2.583441  0.408670  1.151147 -0.096695   \n",
      "\n",
      "              V7        V8        V9  ...       V20       V21       V22  \\\n",
      "44911  -0.346527  0.025246  0.217486  ... -0.071589 -0.109233 -0.352369   \n",
      "100286 -1.549097  0.159125 -1.440798  ... -0.119259 -0.243213 -0.150216   \n",
      "102384 -0.989261  0.922154  1.692216  ...  0.310277  0.174986  0.299521   \n",
      "60758   0.267497 -0.128741 -0.336172  ... -0.148034  0.038203  0.062699   \n",
      "82550  -0.570597  0.083481  0.883488  ...  0.010456 -0.127185 -0.179896   \n",
      "...          ...       ...       ...  ...       ...       ...       ...   \n",
      "279863 -0.882850  0.697211 -2.064945  ...  1.252967  0.778584 -0.319189   \n",
      "280143 -1.413170  0.248525 -1.127396  ...  0.226138  0.370612  0.028234   \n",
      "280149 -2.234739  1.210158 -0.652250  ...  0.247968  0.751826  0.834108   \n",
      "281144 -2.208002  1.058733 -1.632333  ...  0.306271  0.583276 -0.269209   \n",
      "281674  0.223050 -0.068384  0.577829  ... -0.017652 -0.164350 -0.295135   \n",
      "\n",
      "             V23       V24       V25       V26       V27       V28  Amount  \n",
      "44911   0.050229  0.055101  0.118561  0.908723 -0.077280 -0.005138    0.77  \n",
      "100286 -0.160351 -0.997767  0.440856 -0.136682  0.078019  0.017321   44.00  \n",
      "102384 -0.299697  1.051257  0.733168 -0.531827  0.069812  0.052230  150.00  \n",
      "60758  -0.087294  0.531856  0.649904 -0.388250 -0.005870  0.010050   17.87  \n",
      "82550  -0.097730 -0.387423  0.382135  0.364071  0.016462  0.023728   28.75  \n",
      "...          ...       ...       ...       ...       ...       ...     ...  \n",
      "279863  0.639419 -0.294885  0.537503  0.788395  0.292680  0.147968  390.00  \n",
      "280143 -0.145640 -0.081049  0.521875  0.739467  0.389152  0.186637    0.76  \n",
      "280149  0.190944  0.032070 -0.739695  0.471111  0.385107  0.194361   77.89  \n",
      "281144 -0.456108 -0.183659 -0.328168  0.606116  0.884876 -0.253700  245.00  \n",
      "281674 -0.072173 -0.450261  0.313267 -0.289617  0.002988 -0.015309   42.53  \n",
      "\n",
      "[984 rows x 30 columns]\n"
     ]
    }
   ],
   "source": [
    "print(X)"
   ]
  },
  {
   "cell_type": "code",
   "execution_count": 20,
   "id": "7fc02ba0",
   "metadata": {
    "execution": {
     "iopub.execute_input": "2023-08-02T07:27:08.987470Z",
     "iopub.status.busy": "2023-08-02T07:27:08.987076Z",
     "iopub.status.idle": "2023-08-02T07:27:08.994245Z",
     "shell.execute_reply": "2023-08-02T07:27:08.993131Z"
    },
    "papermill": {
     "duration": 0.026282,
     "end_time": "2023-08-02T07:27:08.996839",
     "exception": false,
     "start_time": "2023-08-02T07:27:08.970557",
     "status": "completed"
    },
    "tags": []
   },
   "outputs": [
    {
     "name": "stdout",
     "output_type": "stream",
     "text": [
      "44911     0\n",
      "100286    0\n",
      "102384    0\n",
      "60758     0\n",
      "82550     0\n",
      "         ..\n",
      "279863    1\n",
      "280143    1\n",
      "280149    1\n",
      "281144    1\n",
      "281674    1\n",
      "Name: Class, Length: 984, dtype: int64\n"
     ]
    }
   ],
   "source": [
    "print(Y)"
   ]
  },
  {
   "cell_type": "markdown",
   "id": "ed6dfa93",
   "metadata": {
    "papermill": {
     "duration": 0.015431,
     "end_time": "2023-08-02T07:27:09.028322",
     "exception": false,
     "start_time": "2023-08-02T07:27:09.012891",
     "status": "completed"
    },
    "tags": []
   },
   "source": [
    "**SPLITTING DATA INTO TRAINING DATA AND TESTING DATA**"
   ]
  },
  {
   "cell_type": "code",
   "execution_count": 21,
   "id": "adcca5d7",
   "metadata": {
    "execution": {
     "iopub.execute_input": "2023-08-02T07:27:09.061396Z",
     "iopub.status.busy": "2023-08-02T07:27:09.060988Z",
     "iopub.status.idle": "2023-08-02T07:27:09.072669Z",
     "shell.execute_reply": "2023-08-02T07:27:09.070931Z"
    },
    "papermill": {
     "duration": 0.031137,
     "end_time": "2023-08-02T07:27:09.075578",
     "exception": false,
     "start_time": "2023-08-02T07:27:09.044441",
     "status": "completed"
    },
    "tags": []
   },
   "outputs": [],
   "source": [
    "X_train, X_test, Y_train, Y_test = train_test_split(X, Y, test_size = 0.2, stratify = Y, random_state = 2)"
   ]
  },
  {
   "cell_type": "code",
   "execution_count": 22,
   "id": "01616d1e",
   "metadata": {
    "execution": {
     "iopub.execute_input": "2023-08-02T07:27:09.108396Z",
     "iopub.status.busy": "2023-08-02T07:27:09.107986Z",
     "iopub.status.idle": "2023-08-02T07:27:09.114277Z",
     "shell.execute_reply": "2023-08-02T07:27:09.113013Z"
    },
    "papermill": {
     "duration": 0.025935,
     "end_time": "2023-08-02T07:27:09.117252",
     "exception": false,
     "start_time": "2023-08-02T07:27:09.091317",
     "status": "completed"
    },
    "tags": []
   },
   "outputs": [
    {
     "name": "stdout",
     "output_type": "stream",
     "text": [
      "(984, 30) (787, 30) (197, 30)\n"
     ]
    }
   ],
   "source": [
    "print(X.shape, X_train.shape, X_test.shape)"
   ]
  },
  {
   "cell_type": "markdown",
   "id": "7571b802",
   "metadata": {
    "papermill": {
     "duration": 0.015127,
     "end_time": "2023-08-02T07:27:09.148221",
     "exception": false,
     "start_time": "2023-08-02T07:27:09.133094",
     "status": "completed"
    },
    "tags": []
   },
   "source": [
    "**MODEL TRAINING**"
   ]
  },
  {
   "cell_type": "markdown",
   "id": "bb85a537",
   "metadata": {
    "papermill": {
     "duration": 0.01577,
     "end_time": "2023-08-02T07:27:09.179784",
     "exception": false,
     "start_time": "2023-08-02T07:27:09.164014",
     "status": "completed"
    },
    "tags": []
   },
   "source": [
    "LOGISTIC REGRESSION"
   ]
  },
  {
   "cell_type": "code",
   "execution_count": 23,
   "id": "3647da83",
   "metadata": {
    "execution": {
     "iopub.execute_input": "2023-08-02T07:27:09.214212Z",
     "iopub.status.busy": "2023-08-02T07:27:09.213806Z",
     "iopub.status.idle": "2023-08-02T07:27:09.219280Z",
     "shell.execute_reply": "2023-08-02T07:27:09.217954Z"
    },
    "papermill": {
     "duration": 0.025248,
     "end_time": "2023-08-02T07:27:09.222004",
     "exception": false,
     "start_time": "2023-08-02T07:27:09.196756",
     "status": "completed"
    },
    "tags": []
   },
   "outputs": [],
   "source": [
    "model = LogisticRegression()"
   ]
  },
  {
   "cell_type": "markdown",
   "id": "e3f9b0ed",
   "metadata": {
    "papermill": {
     "duration": 0.015594,
     "end_time": "2023-08-02T07:27:09.253080",
     "exception": false,
     "start_time": "2023-08-02T07:27:09.237486",
     "status": "completed"
    },
    "tags": []
   },
   "source": [
    "TRAINING THE LOGISTIC REGRESSION MODEL WITH TRAINING DATA"
   ]
  },
  {
   "cell_type": "code",
   "execution_count": 24,
   "id": "1805f8c2",
   "metadata": {
    "execution": {
     "iopub.execute_input": "2023-08-02T07:27:09.285918Z",
     "iopub.status.busy": "2023-08-02T07:27:09.285444Z",
     "iopub.status.idle": "2023-08-02T07:27:09.360703Z",
     "shell.execute_reply": "2023-08-02T07:27:09.358923Z"
    },
    "papermill": {
     "duration": 0.096421,
     "end_time": "2023-08-02T07:27:09.365049",
     "exception": false,
     "start_time": "2023-08-02T07:27:09.268628",
     "status": "completed"
    },
    "tags": []
   },
   "outputs": [
    {
     "name": "stderr",
     "output_type": "stream",
     "text": [
      "c:\\Users\\Pratiksha\\Lib\\site-packages\\sklearn\\linear_model\\_logistic.py:465: ConvergenceWarning: lbfgs failed to converge (status=1):\n",
      "STOP: TOTAL NO. OF ITERATIONS REACHED LIMIT.\n",
      "\n",
      "Increase the number of iterations (max_iter) or scale the data as shown in:\n",
      "    https://scikit-learn.org/stable/modules/preprocessing.html\n",
      "Please also refer to the documentation for alternative solver options:\n",
      "    https://scikit-learn.org/stable/modules/linear_model.html#logistic-regression\n",
      "  n_iter_i = _check_optimize_result(\n"
     ]
    },
    {
     "data": {
      "text/html": [
       "<style>#sk-container-id-1 {\n",
       "  /* Definition of color scheme common for light and dark mode */\n",
       "  --sklearn-color-text: #000;\n",
       "  --sklearn-color-text-muted: #666;\n",
       "  --sklearn-color-line: gray;\n",
       "  /* Definition of color scheme for unfitted estimators */\n",
       "  --sklearn-color-unfitted-level-0: #fff5e6;\n",
       "  --sklearn-color-unfitted-level-1: #f6e4d2;\n",
       "  --sklearn-color-unfitted-level-2: #ffe0b3;\n",
       "  --sklearn-color-unfitted-level-3: chocolate;\n",
       "  /* Definition of color scheme for fitted estimators */\n",
       "  --sklearn-color-fitted-level-0: #f0f8ff;\n",
       "  --sklearn-color-fitted-level-1: #d4ebff;\n",
       "  --sklearn-color-fitted-level-2: #b3dbfd;\n",
       "  --sklearn-color-fitted-level-3: cornflowerblue;\n",
       "\n",
       "  /* Specific color for light theme */\n",
       "  --sklearn-color-text-on-default-background: var(--sg-text-color, var(--theme-code-foreground, var(--jp-content-font-color1, black)));\n",
       "  --sklearn-color-background: var(--sg-background-color, var(--theme-background, var(--jp-layout-color0, white)));\n",
       "  --sklearn-color-border-box: var(--sg-text-color, var(--theme-code-foreground, var(--jp-content-font-color1, black)));\n",
       "  --sklearn-color-icon: #696969;\n",
       "\n",
       "  @media (prefers-color-scheme: dark) {\n",
       "    /* Redefinition of color scheme for dark theme */\n",
       "    --sklearn-color-text-on-default-background: var(--sg-text-color, var(--theme-code-foreground, var(--jp-content-font-color1, white)));\n",
       "    --sklearn-color-background: var(--sg-background-color, var(--theme-background, var(--jp-layout-color0, #111)));\n",
       "    --sklearn-color-border-box: var(--sg-text-color, var(--theme-code-foreground, var(--jp-content-font-color1, white)));\n",
       "    --sklearn-color-icon: #878787;\n",
       "  }\n",
       "}\n",
       "\n",
       "#sk-container-id-1 {\n",
       "  color: var(--sklearn-color-text);\n",
       "}\n",
       "\n",
       "#sk-container-id-1 pre {\n",
       "  padding: 0;\n",
       "}\n",
       "\n",
       "#sk-container-id-1 input.sk-hidden--visually {\n",
       "  border: 0;\n",
       "  clip: rect(1px 1px 1px 1px);\n",
       "  clip: rect(1px, 1px, 1px, 1px);\n",
       "  height: 1px;\n",
       "  margin: -1px;\n",
       "  overflow: hidden;\n",
       "  padding: 0;\n",
       "  position: absolute;\n",
       "  width: 1px;\n",
       "}\n",
       "\n",
       "#sk-container-id-1 div.sk-dashed-wrapped {\n",
       "  border: 1px dashed var(--sklearn-color-line);\n",
       "  margin: 0 0.4em 0.5em 0.4em;\n",
       "  box-sizing: border-box;\n",
       "  padding-bottom: 0.4em;\n",
       "  background-color: var(--sklearn-color-background);\n",
       "}\n",
       "\n",
       "#sk-container-id-1 div.sk-container {\n",
       "  /* jupyter's `normalize.less` sets `[hidden] { display: none; }`\n",
       "     but bootstrap.min.css set `[hidden] { display: none !important; }`\n",
       "     so we also need the `!important` here to be able to override the\n",
       "     default hidden behavior on the sphinx rendered scikit-learn.org.\n",
       "     See: https://github.com/scikit-learn/scikit-learn/issues/21755 */\n",
       "  display: inline-block !important;\n",
       "  position: relative;\n",
       "}\n",
       "\n",
       "#sk-container-id-1 div.sk-text-repr-fallback {\n",
       "  display: none;\n",
       "}\n",
       "\n",
       "div.sk-parallel-item,\n",
       "div.sk-serial,\n",
       "div.sk-item {\n",
       "  /* draw centered vertical line to link estimators */\n",
       "  background-image: linear-gradient(var(--sklearn-color-text-on-default-background), var(--sklearn-color-text-on-default-background));\n",
       "  background-size: 2px 100%;\n",
       "  background-repeat: no-repeat;\n",
       "  background-position: center center;\n",
       "}\n",
       "\n",
       "/* Parallel-specific style estimator block */\n",
       "\n",
       "#sk-container-id-1 div.sk-parallel-item::after {\n",
       "  content: \"\";\n",
       "  width: 100%;\n",
       "  border-bottom: 2px solid var(--sklearn-color-text-on-default-background);\n",
       "  flex-grow: 1;\n",
       "}\n",
       "\n",
       "#sk-container-id-1 div.sk-parallel {\n",
       "  display: flex;\n",
       "  align-items: stretch;\n",
       "  justify-content: center;\n",
       "  background-color: var(--sklearn-color-background);\n",
       "  position: relative;\n",
       "}\n",
       "\n",
       "#sk-container-id-1 div.sk-parallel-item {\n",
       "  display: flex;\n",
       "  flex-direction: column;\n",
       "}\n",
       "\n",
       "#sk-container-id-1 div.sk-parallel-item:first-child::after {\n",
       "  align-self: flex-end;\n",
       "  width: 50%;\n",
       "}\n",
       "\n",
       "#sk-container-id-1 div.sk-parallel-item:last-child::after {\n",
       "  align-self: flex-start;\n",
       "  width: 50%;\n",
       "}\n",
       "\n",
       "#sk-container-id-1 div.sk-parallel-item:only-child::after {\n",
       "  width: 0;\n",
       "}\n",
       "\n",
       "/* Serial-specific style estimator block */\n",
       "\n",
       "#sk-container-id-1 div.sk-serial {\n",
       "  display: flex;\n",
       "  flex-direction: column;\n",
       "  align-items: center;\n",
       "  background-color: var(--sklearn-color-background);\n",
       "  padding-right: 1em;\n",
       "  padding-left: 1em;\n",
       "}\n",
       "\n",
       "\n",
       "/* Toggleable style: style used for estimator/Pipeline/ColumnTransformer box that is\n",
       "clickable and can be expanded/collapsed.\n",
       "- Pipeline and ColumnTransformer use this feature and define the default style\n",
       "- Estimators will overwrite some part of the style using the `sk-estimator` class\n",
       "*/\n",
       "\n",
       "/* Pipeline and ColumnTransformer style (default) */\n",
       "\n",
       "#sk-container-id-1 div.sk-toggleable {\n",
       "  /* Default theme specific background. It is overwritten whether we have a\n",
       "  specific estimator or a Pipeline/ColumnTransformer */\n",
       "  background-color: var(--sklearn-color-background);\n",
       "}\n",
       "\n",
       "/* Toggleable label */\n",
       "#sk-container-id-1 label.sk-toggleable__label {\n",
       "  cursor: pointer;\n",
       "  display: flex;\n",
       "  width: 100%;\n",
       "  margin-bottom: 0;\n",
       "  padding: 0.5em;\n",
       "  box-sizing: border-box;\n",
       "  text-align: center;\n",
       "  align-items: start;\n",
       "  justify-content: space-between;\n",
       "  gap: 0.5em;\n",
       "}\n",
       "\n",
       "#sk-container-id-1 label.sk-toggleable__label .caption {\n",
       "  font-size: 0.6rem;\n",
       "  font-weight: lighter;\n",
       "  color: var(--sklearn-color-text-muted);\n",
       "}\n",
       "\n",
       "#sk-container-id-1 label.sk-toggleable__label-arrow:before {\n",
       "  /* Arrow on the left of the label */\n",
       "  content: \"▸\";\n",
       "  float: left;\n",
       "  margin-right: 0.25em;\n",
       "  color: var(--sklearn-color-icon);\n",
       "}\n",
       "\n",
       "#sk-container-id-1 label.sk-toggleable__label-arrow:hover:before {\n",
       "  color: var(--sklearn-color-text);\n",
       "}\n",
       "\n",
       "/* Toggleable content - dropdown */\n",
       "\n",
       "#sk-container-id-1 div.sk-toggleable__content {\n",
       "  max-height: 0;\n",
       "  max-width: 0;\n",
       "  overflow: hidden;\n",
       "  text-align: left;\n",
       "  /* unfitted */\n",
       "  background-color: var(--sklearn-color-unfitted-level-0);\n",
       "}\n",
       "\n",
       "#sk-container-id-1 div.sk-toggleable__content.fitted {\n",
       "  /* fitted */\n",
       "  background-color: var(--sklearn-color-fitted-level-0);\n",
       "}\n",
       "\n",
       "#sk-container-id-1 div.sk-toggleable__content pre {\n",
       "  margin: 0.2em;\n",
       "  border-radius: 0.25em;\n",
       "  color: var(--sklearn-color-text);\n",
       "  /* unfitted */\n",
       "  background-color: var(--sklearn-color-unfitted-level-0);\n",
       "}\n",
       "\n",
       "#sk-container-id-1 div.sk-toggleable__content.fitted pre {\n",
       "  /* unfitted */\n",
       "  background-color: var(--sklearn-color-fitted-level-0);\n",
       "}\n",
       "\n",
       "#sk-container-id-1 input.sk-toggleable__control:checked~div.sk-toggleable__content {\n",
       "  /* Expand drop-down */\n",
       "  max-height: 200px;\n",
       "  max-width: 100%;\n",
       "  overflow: auto;\n",
       "}\n",
       "\n",
       "#sk-container-id-1 input.sk-toggleable__control:checked~label.sk-toggleable__label-arrow:before {\n",
       "  content: \"▾\";\n",
       "}\n",
       "\n",
       "/* Pipeline/ColumnTransformer-specific style */\n",
       "\n",
       "#sk-container-id-1 div.sk-label input.sk-toggleable__control:checked~label.sk-toggleable__label {\n",
       "  color: var(--sklearn-color-text);\n",
       "  background-color: var(--sklearn-color-unfitted-level-2);\n",
       "}\n",
       "\n",
       "#sk-container-id-1 div.sk-label.fitted input.sk-toggleable__control:checked~label.sk-toggleable__label {\n",
       "  background-color: var(--sklearn-color-fitted-level-2);\n",
       "}\n",
       "\n",
       "/* Estimator-specific style */\n",
       "\n",
       "/* Colorize estimator box */\n",
       "#sk-container-id-1 div.sk-estimator input.sk-toggleable__control:checked~label.sk-toggleable__label {\n",
       "  /* unfitted */\n",
       "  background-color: var(--sklearn-color-unfitted-level-2);\n",
       "}\n",
       "\n",
       "#sk-container-id-1 div.sk-estimator.fitted input.sk-toggleable__control:checked~label.sk-toggleable__label {\n",
       "  /* fitted */\n",
       "  background-color: var(--sklearn-color-fitted-level-2);\n",
       "}\n",
       "\n",
       "#sk-container-id-1 div.sk-label label.sk-toggleable__label,\n",
       "#sk-container-id-1 div.sk-label label {\n",
       "  /* The background is the default theme color */\n",
       "  color: var(--sklearn-color-text-on-default-background);\n",
       "}\n",
       "\n",
       "/* On hover, darken the color of the background */\n",
       "#sk-container-id-1 div.sk-label:hover label.sk-toggleable__label {\n",
       "  color: var(--sklearn-color-text);\n",
       "  background-color: var(--sklearn-color-unfitted-level-2);\n",
       "}\n",
       "\n",
       "/* Label box, darken color on hover, fitted */\n",
       "#sk-container-id-1 div.sk-label.fitted:hover label.sk-toggleable__label.fitted {\n",
       "  color: var(--sklearn-color-text);\n",
       "  background-color: var(--sklearn-color-fitted-level-2);\n",
       "}\n",
       "\n",
       "/* Estimator label */\n",
       "\n",
       "#sk-container-id-1 div.sk-label label {\n",
       "  font-family: monospace;\n",
       "  font-weight: bold;\n",
       "  display: inline-block;\n",
       "  line-height: 1.2em;\n",
       "}\n",
       "\n",
       "#sk-container-id-1 div.sk-label-container {\n",
       "  text-align: center;\n",
       "}\n",
       "\n",
       "/* Estimator-specific */\n",
       "#sk-container-id-1 div.sk-estimator {\n",
       "  font-family: monospace;\n",
       "  border: 1px dotted var(--sklearn-color-border-box);\n",
       "  border-radius: 0.25em;\n",
       "  box-sizing: border-box;\n",
       "  margin-bottom: 0.5em;\n",
       "  /* unfitted */\n",
       "  background-color: var(--sklearn-color-unfitted-level-0);\n",
       "}\n",
       "\n",
       "#sk-container-id-1 div.sk-estimator.fitted {\n",
       "  /* fitted */\n",
       "  background-color: var(--sklearn-color-fitted-level-0);\n",
       "}\n",
       "\n",
       "/* on hover */\n",
       "#sk-container-id-1 div.sk-estimator:hover {\n",
       "  /* unfitted */\n",
       "  background-color: var(--sklearn-color-unfitted-level-2);\n",
       "}\n",
       "\n",
       "#sk-container-id-1 div.sk-estimator.fitted:hover {\n",
       "  /* fitted */\n",
       "  background-color: var(--sklearn-color-fitted-level-2);\n",
       "}\n",
       "\n",
       "/* Specification for estimator info (e.g. \"i\" and \"?\") */\n",
       "\n",
       "/* Common style for \"i\" and \"?\" */\n",
       "\n",
       ".sk-estimator-doc-link,\n",
       "a:link.sk-estimator-doc-link,\n",
       "a:visited.sk-estimator-doc-link {\n",
       "  float: right;\n",
       "  font-size: smaller;\n",
       "  line-height: 1em;\n",
       "  font-family: monospace;\n",
       "  background-color: var(--sklearn-color-background);\n",
       "  border-radius: 1em;\n",
       "  height: 1em;\n",
       "  width: 1em;\n",
       "  text-decoration: none !important;\n",
       "  margin-left: 0.5em;\n",
       "  text-align: center;\n",
       "  /* unfitted */\n",
       "  border: var(--sklearn-color-unfitted-level-1) 1pt solid;\n",
       "  color: var(--sklearn-color-unfitted-level-1);\n",
       "}\n",
       "\n",
       ".sk-estimator-doc-link.fitted,\n",
       "a:link.sk-estimator-doc-link.fitted,\n",
       "a:visited.sk-estimator-doc-link.fitted {\n",
       "  /* fitted */\n",
       "  border: var(--sklearn-color-fitted-level-1) 1pt solid;\n",
       "  color: var(--sklearn-color-fitted-level-1);\n",
       "}\n",
       "\n",
       "/* On hover */\n",
       "div.sk-estimator:hover .sk-estimator-doc-link:hover,\n",
       ".sk-estimator-doc-link:hover,\n",
       "div.sk-label-container:hover .sk-estimator-doc-link:hover,\n",
       ".sk-estimator-doc-link:hover {\n",
       "  /* unfitted */\n",
       "  background-color: var(--sklearn-color-unfitted-level-3);\n",
       "  color: var(--sklearn-color-background);\n",
       "  text-decoration: none;\n",
       "}\n",
       "\n",
       "div.sk-estimator.fitted:hover .sk-estimator-doc-link.fitted:hover,\n",
       ".sk-estimator-doc-link.fitted:hover,\n",
       "div.sk-label-container:hover .sk-estimator-doc-link.fitted:hover,\n",
       ".sk-estimator-doc-link.fitted:hover {\n",
       "  /* fitted */\n",
       "  background-color: var(--sklearn-color-fitted-level-3);\n",
       "  color: var(--sklearn-color-background);\n",
       "  text-decoration: none;\n",
       "}\n",
       "\n",
       "/* Span, style for the box shown on hovering the info icon */\n",
       ".sk-estimator-doc-link span {\n",
       "  display: none;\n",
       "  z-index: 9999;\n",
       "  position: relative;\n",
       "  font-weight: normal;\n",
       "  right: .2ex;\n",
       "  padding: .5ex;\n",
       "  margin: .5ex;\n",
       "  width: min-content;\n",
       "  min-width: 20ex;\n",
       "  max-width: 50ex;\n",
       "  color: var(--sklearn-color-text);\n",
       "  box-shadow: 2pt 2pt 4pt #999;\n",
       "  /* unfitted */\n",
       "  background: var(--sklearn-color-unfitted-level-0);\n",
       "  border: .5pt solid var(--sklearn-color-unfitted-level-3);\n",
       "}\n",
       "\n",
       ".sk-estimator-doc-link.fitted span {\n",
       "  /* fitted */\n",
       "  background: var(--sklearn-color-fitted-level-0);\n",
       "  border: var(--sklearn-color-fitted-level-3);\n",
       "}\n",
       "\n",
       ".sk-estimator-doc-link:hover span {\n",
       "  display: block;\n",
       "}\n",
       "\n",
       "/* \"?\"-specific style due to the `<a>` HTML tag */\n",
       "\n",
       "#sk-container-id-1 a.estimator_doc_link {\n",
       "  float: right;\n",
       "  font-size: 1rem;\n",
       "  line-height: 1em;\n",
       "  font-family: monospace;\n",
       "  background-color: var(--sklearn-color-background);\n",
       "  border-radius: 1rem;\n",
       "  height: 1rem;\n",
       "  width: 1rem;\n",
       "  text-decoration: none;\n",
       "  /* unfitted */\n",
       "  color: var(--sklearn-color-unfitted-level-1);\n",
       "  border: var(--sklearn-color-unfitted-level-1) 1pt solid;\n",
       "}\n",
       "\n",
       "#sk-container-id-1 a.estimator_doc_link.fitted {\n",
       "  /* fitted */\n",
       "  border: var(--sklearn-color-fitted-level-1) 1pt solid;\n",
       "  color: var(--sklearn-color-fitted-level-1);\n",
       "}\n",
       "\n",
       "/* On hover */\n",
       "#sk-container-id-1 a.estimator_doc_link:hover {\n",
       "  /* unfitted */\n",
       "  background-color: var(--sklearn-color-unfitted-level-3);\n",
       "  color: var(--sklearn-color-background);\n",
       "  text-decoration: none;\n",
       "}\n",
       "\n",
       "#sk-container-id-1 a.estimator_doc_link.fitted:hover {\n",
       "  /* fitted */\n",
       "  background-color: var(--sklearn-color-fitted-level-3);\n",
       "}\n",
       "</style><div id=\"sk-container-id-1\" class=\"sk-top-container\"><div class=\"sk-text-repr-fallback\"><pre>LogisticRegression()</pre><b>In a Jupyter environment, please rerun this cell to show the HTML representation or trust the notebook. <br />On GitHub, the HTML representation is unable to render, please try loading this page with nbviewer.org.</b></div><div class=\"sk-container\" hidden><div class=\"sk-item\"><div class=\"sk-estimator fitted sk-toggleable\"><input class=\"sk-toggleable__control sk-hidden--visually\" id=\"sk-estimator-id-1\" type=\"checkbox\" checked><label for=\"sk-estimator-id-1\" class=\"sk-toggleable__label fitted sk-toggleable__label-arrow\"><div><div>LogisticRegression</div></div><div><a class=\"sk-estimator-doc-link fitted\" rel=\"noreferrer\" target=\"_blank\" href=\"https://scikit-learn.org/1.6/modules/generated/sklearn.linear_model.LogisticRegression.html\">?<span>Documentation for LogisticRegression</span></a><span class=\"sk-estimator-doc-link fitted\">i<span>Fitted</span></span></div></label><div class=\"sk-toggleable__content fitted\"><pre>LogisticRegression()</pre></div> </div></div></div></div>"
      ],
      "text/plain": [
       "LogisticRegression()"
      ]
     },
     "execution_count": 24,
     "metadata": {},
     "output_type": "execute_result"
    }
   ],
   "source": [
    "model.fit(X_train, Y_train)"
   ]
  },
  {
   "cell_type": "markdown",
   "id": "1e09e9f9",
   "metadata": {
    "papermill": {
     "duration": 0.034905,
     "end_time": "2023-08-02T07:27:09.433696",
     "exception": false,
     "start_time": "2023-08-02T07:27:09.398791",
     "status": "completed"
    },
    "tags": []
   },
   "source": [
    "**MODEL EVALUAION**"
   ]
  },
  {
   "cell_type": "markdown",
   "id": "e0020e7d",
   "metadata": {
    "papermill": {
     "duration": 0.015315,
     "end_time": "2023-08-02T07:27:09.480162",
     "exception": false,
     "start_time": "2023-08-02T07:27:09.464847",
     "status": "completed"
    },
    "tags": []
   },
   "source": [
    "ACCURACY SCORE"
   ]
  },
  {
   "cell_type": "markdown",
   "id": "a847ce43",
   "metadata": {
    "papermill": {
     "duration": 0.015696,
     "end_time": "2023-08-02T07:27:09.511532",
     "exception": false,
     "start_time": "2023-08-02T07:27:09.495836",
     "status": "completed"
    },
    "tags": []
   },
   "source": [
    "ACCURACY ON TRAINING DATA"
   ]
  },
  {
   "cell_type": "code",
   "execution_count": 25,
   "id": "b0bd3a1b",
   "metadata": {
    "execution": {
     "iopub.execute_input": "2023-08-02T07:27:09.548091Z",
     "iopub.status.busy": "2023-08-02T07:27:09.547045Z",
     "iopub.status.idle": "2023-08-02T07:27:09.558716Z",
     "shell.execute_reply": "2023-08-02T07:27:09.557055Z"
    },
    "papermill": {
     "duration": 0.033526,
     "end_time": "2023-08-02T07:27:09.562888",
     "exception": false,
     "start_time": "2023-08-02T07:27:09.529362",
     "status": "completed"
    },
    "tags": []
   },
   "outputs": [],
   "source": [
    "X_train_predict = model.predict(X_train)\n",
    "training_data_accuracy = accuracy_score(X_train_predict, Y_train)"
   ]
  },
  {
   "cell_type": "code",
   "execution_count": 26,
   "id": "b8e49d4f",
   "metadata": {
    "execution": {
     "iopub.execute_input": "2023-08-02T07:27:09.633473Z",
     "iopub.status.busy": "2023-08-02T07:27:09.632653Z",
     "iopub.status.idle": "2023-08-02T07:27:09.640652Z",
     "shell.execute_reply": "2023-08-02T07:27:09.639537Z"
    },
    "papermill": {
     "duration": 0.048411,
     "end_time": "2023-08-02T07:27:09.644727",
     "exception": false,
     "start_time": "2023-08-02T07:27:09.596316",
     "status": "completed"
    },
    "tags": []
   },
   "outputs": [
    {
     "name": "stdout",
     "output_type": "stream",
     "text": [
      "ACCURACY ON TRAINING DATA: 0.9390088945362135\n"
     ]
    }
   ],
   "source": [
    "print(\"ACCURACY ON TRAINING DATA:\", training_data_accuracy)"
   ]
  },
  {
   "cell_type": "markdown",
   "id": "9fd5cc90",
   "metadata": {
    "papermill": {
     "duration": 0.0161,
     "end_time": "2023-08-02T07:27:09.692859",
     "exception": false,
     "start_time": "2023-08-02T07:27:09.676759",
     "status": "completed"
    },
    "tags": []
   },
   "source": [
    "ACCURACY ON TESTING DATA"
   ]
  },
  {
   "cell_type": "code",
   "execution_count": 27,
   "id": "74d768fa",
   "metadata": {
    "execution": {
     "iopub.execute_input": "2023-08-02T07:27:09.726245Z",
     "iopub.status.busy": "2023-08-02T07:27:09.725823Z",
     "iopub.status.idle": "2023-08-02T07:27:09.734305Z",
     "shell.execute_reply": "2023-08-02T07:27:09.733349Z"
    },
    "papermill": {
     "duration": 0.027951,
     "end_time": "2023-08-02T07:27:09.736629",
     "exception": false,
     "start_time": "2023-08-02T07:27:09.708678",
     "status": "completed"
    },
    "tags": []
   },
   "outputs": [],
   "source": [
    "X_test_predict = model.predict(X_test)\n",
    "testing_data_accuracy = accuracy_score(X_test_predict, Y_test)"
   ]
  },
  {
   "cell_type": "code",
   "execution_count": 28,
   "id": "7c2fb7df",
   "metadata": {
    "execution": {
     "iopub.execute_input": "2023-08-02T07:27:09.771617Z",
     "iopub.status.busy": "2023-08-02T07:27:09.770848Z",
     "iopub.status.idle": "2023-08-02T07:27:09.776246Z",
     "shell.execute_reply": "2023-08-02T07:27:09.775054Z"
    },
    "papermill": {
     "duration": 0.025055,
     "end_time": "2023-08-02T07:27:09.778460",
     "exception": false,
     "start_time": "2023-08-02T07:27:09.753405",
     "status": "completed"
    },
    "tags": []
   },
   "outputs": [
    {
     "name": "stdout",
     "output_type": "stream",
     "text": [
      "ACCURACY ON TESTING DATA: 0.9390862944162437\n"
     ]
    }
   ],
   "source": [
    "print(\"ACCURACY ON TESTING DATA:\", testing_data_accuracy)"
   ]
  },
  {
   "cell_type": "code",
   "execution_count": null,
   "id": "3054c266",
   "metadata": {},
   "outputs": [],
   "source": []
  }
 ],
 "metadata": {
  "kernelspec": {
   "display_name": "Python 3.11.9",
   "language": "python",
   "name": "py311"
  },
  "language_info": {
   "codemirror_mode": {
    "name": "ipython",
    "version": 3
   },
   "file_extension": ".py",
   "mimetype": "text/x-python",
   "name": "python",
   "nbconvert_exporter": "python",
   "pygments_lexer": "ipython3",
   "version": "3.13.2"
  },
  "papermill": {
   "default_parameters": {},
   "duration": 21.933949,
   "end_time": "2023-08-02T07:27:10.818043",
   "environment_variables": {},
   "exception": null,
   "input_path": "__notebook__.ipynb",
   "output_path": "__notebook__.ipynb",
   "parameters": {},
   "start_time": "2023-08-02T07:26:48.884094",
   "version": "2.4.0"
  }
 },
 "nbformat": 4,
 "nbformat_minor": 5
}
