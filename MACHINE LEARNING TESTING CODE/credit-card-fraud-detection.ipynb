{
 "cells": [
  {
   "cell_type": "code",
   "execution_count": 15,
   "id": "9b0910b5",
   "metadata": {
    "execution": {
     "iopub.execute_input": "2023-08-02T07:27:01.168097Z",
     "iopub.status.busy": "2023-08-02T07:27:01.167698Z",
     "iopub.status.idle": "2023-08-02T07:27:02.716354Z",
     "shell.execute_reply": "2023-08-02T07:27:02.715027Z"
    },
    "papermill": {
     "duration": 1.565993,
     "end_time": "2023-08-02T07:27:02.719487",
     "exception": false,
     "start_time": "2023-08-02T07:27:01.153494",
     "status": "completed"
    },
    "tags": []
   },
   "outputs": [],
   "source": [
    "import numpy as np\n",
    "import pandas as pd\n",
    "from sklearn.model_selection import train_test_split\n",
    "from sklearn.linear_model import LogisticRegression\n",
    "from sklearn.metrics import accuracy_score"
   ]
  },
  {
   "cell_type": "code",
   "execution_count": 12,
   "id": "ba752261",
   "metadata": {
    "execution": {
     "iopub.execute_input": "2023-08-02T07:27:02.749250Z",
     "iopub.status.busy": "2023-08-02T07:27:02.748074Z",
     "iopub.status.idle": "2023-08-02T07:27:07.733057Z",
     "shell.execute_reply": "2023-08-02T07:27:07.731973Z"
    },
    "papermill": {
     "duration": 5.003842,
     "end_time": "2023-08-02T07:27:07.735962",
     "exception": false,
     "start_time": "2023-08-02T07:27:02.732120",
     "status": "completed"
    },
    "tags": []
   },
   "outputs": [
    {
     "ename": "FileNotFoundError",
     "evalue": "[Errno 2] No such file or directory: 'creditcard.csv/creditcard.csv'",
     "output_type": "error",
     "traceback": [
      "\u001b[1;31m---------------------------------------------------------------------------\u001b[0m",
      "\u001b[1;31mFileNotFoundError\u001b[0m                         Traceback (most recent call last)",
      "Cell \u001b[1;32mIn[12], line 1\u001b[0m\n\u001b[1;32m----> 1\u001b[0m df \u001b[38;5;241m=\u001b[39m pd\u001b[38;5;241m.\u001b[39mread_csv(\u001b[38;5;124m\"\u001b[39m\u001b[38;5;124mcreditcard.csv/creditcard.csv\u001b[39m\u001b[38;5;124m\"\u001b[39m)\n",
      "File \u001b[1;32m~\\anaconda3\\Lib\\site-packages\\pandas\\util\\_decorators.py:211\u001b[0m, in \u001b[0;36mdeprecate_kwarg.<locals>._deprecate_kwarg.<locals>.wrapper\u001b[1;34m(*args, **kwargs)\u001b[0m\n\u001b[0;32m    209\u001b[0m     \u001b[38;5;28;01melse\u001b[39;00m:\n\u001b[0;32m    210\u001b[0m         kwargs[new_arg_name] \u001b[38;5;241m=\u001b[39m new_arg_value\n\u001b[1;32m--> 211\u001b[0m \u001b[38;5;28;01mreturn\u001b[39;00m func(\u001b[38;5;241m*\u001b[39margs, \u001b[38;5;241m*\u001b[39m\u001b[38;5;241m*\u001b[39mkwargs)\n",
      "File \u001b[1;32m~\\anaconda3\\Lib\\site-packages\\pandas\\util\\_decorators.py:331\u001b[0m, in \u001b[0;36mdeprecate_nonkeyword_arguments.<locals>.decorate.<locals>.wrapper\u001b[1;34m(*args, **kwargs)\u001b[0m\n\u001b[0;32m    325\u001b[0m \u001b[38;5;28;01mif\u001b[39;00m \u001b[38;5;28mlen\u001b[39m(args) \u001b[38;5;241m>\u001b[39m num_allow_args:\n\u001b[0;32m    326\u001b[0m     warnings\u001b[38;5;241m.\u001b[39mwarn(\n\u001b[0;32m    327\u001b[0m         msg\u001b[38;5;241m.\u001b[39mformat(arguments\u001b[38;5;241m=\u001b[39m_format_argument_list(allow_args)),\n\u001b[0;32m    328\u001b[0m         \u001b[38;5;167;01mFutureWarning\u001b[39;00m,\n\u001b[0;32m    329\u001b[0m         stacklevel\u001b[38;5;241m=\u001b[39mfind_stack_level(),\n\u001b[0;32m    330\u001b[0m     )\n\u001b[1;32m--> 331\u001b[0m \u001b[38;5;28;01mreturn\u001b[39;00m func(\u001b[38;5;241m*\u001b[39margs, \u001b[38;5;241m*\u001b[39m\u001b[38;5;241m*\u001b[39mkwargs)\n",
      "File \u001b[1;32m~\\anaconda3\\Lib\\site-packages\\pandas\\io\\parsers\\readers.py:950\u001b[0m, in \u001b[0;36mread_csv\u001b[1;34m(filepath_or_buffer, sep, delimiter, header, names, index_col, usecols, squeeze, prefix, mangle_dupe_cols, dtype, engine, converters, true_values, false_values, skipinitialspace, skiprows, skipfooter, nrows, na_values, keep_default_na, na_filter, verbose, skip_blank_lines, parse_dates, infer_datetime_format, keep_date_col, date_parser, dayfirst, cache_dates, iterator, chunksize, compression, thousands, decimal, lineterminator, quotechar, quoting, doublequote, escapechar, comment, encoding, encoding_errors, dialect, error_bad_lines, warn_bad_lines, on_bad_lines, delim_whitespace, low_memory, memory_map, float_precision, storage_options)\u001b[0m\n\u001b[0;32m    935\u001b[0m kwds_defaults \u001b[38;5;241m=\u001b[39m _refine_defaults_read(\n\u001b[0;32m    936\u001b[0m     dialect,\n\u001b[0;32m    937\u001b[0m     delimiter,\n\u001b[1;32m   (...)\u001b[0m\n\u001b[0;32m    946\u001b[0m     defaults\u001b[38;5;241m=\u001b[39m{\u001b[38;5;124m\"\u001b[39m\u001b[38;5;124mdelimiter\u001b[39m\u001b[38;5;124m\"\u001b[39m: \u001b[38;5;124m\"\u001b[39m\u001b[38;5;124m,\u001b[39m\u001b[38;5;124m\"\u001b[39m},\n\u001b[0;32m    947\u001b[0m )\n\u001b[0;32m    948\u001b[0m kwds\u001b[38;5;241m.\u001b[39mupdate(kwds_defaults)\n\u001b[1;32m--> 950\u001b[0m \u001b[38;5;28;01mreturn\u001b[39;00m _read(filepath_or_buffer, kwds)\n",
      "File \u001b[1;32m~\\anaconda3\\Lib\\site-packages\\pandas\\io\\parsers\\readers.py:605\u001b[0m, in \u001b[0;36m_read\u001b[1;34m(filepath_or_buffer, kwds)\u001b[0m\n\u001b[0;32m    602\u001b[0m _validate_names(kwds\u001b[38;5;241m.\u001b[39mget(\u001b[38;5;124m\"\u001b[39m\u001b[38;5;124mnames\u001b[39m\u001b[38;5;124m\"\u001b[39m, \u001b[38;5;28;01mNone\u001b[39;00m))\n\u001b[0;32m    604\u001b[0m \u001b[38;5;66;03m# Create the parser.\u001b[39;00m\n\u001b[1;32m--> 605\u001b[0m parser \u001b[38;5;241m=\u001b[39m TextFileReader(filepath_or_buffer, \u001b[38;5;241m*\u001b[39m\u001b[38;5;241m*\u001b[39mkwds)\n\u001b[0;32m    607\u001b[0m \u001b[38;5;28;01mif\u001b[39;00m chunksize \u001b[38;5;129;01mor\u001b[39;00m iterator:\n\u001b[0;32m    608\u001b[0m     \u001b[38;5;28;01mreturn\u001b[39;00m parser\n",
      "File \u001b[1;32m~\\anaconda3\\Lib\\site-packages\\pandas\\io\\parsers\\readers.py:1442\u001b[0m, in \u001b[0;36mTextFileReader.__init__\u001b[1;34m(self, f, engine, **kwds)\u001b[0m\n\u001b[0;32m   1439\u001b[0m     \u001b[38;5;28mself\u001b[39m\u001b[38;5;241m.\u001b[39moptions[\u001b[38;5;124m\"\u001b[39m\u001b[38;5;124mhas_index_names\u001b[39m\u001b[38;5;124m\"\u001b[39m] \u001b[38;5;241m=\u001b[39m kwds[\u001b[38;5;124m\"\u001b[39m\u001b[38;5;124mhas_index_names\u001b[39m\u001b[38;5;124m\"\u001b[39m]\n\u001b[0;32m   1441\u001b[0m \u001b[38;5;28mself\u001b[39m\u001b[38;5;241m.\u001b[39mhandles: IOHandles \u001b[38;5;241m|\u001b[39m \u001b[38;5;28;01mNone\u001b[39;00m \u001b[38;5;241m=\u001b[39m \u001b[38;5;28;01mNone\u001b[39;00m\n\u001b[1;32m-> 1442\u001b[0m \u001b[38;5;28mself\u001b[39m\u001b[38;5;241m.\u001b[39m_engine \u001b[38;5;241m=\u001b[39m \u001b[38;5;28mself\u001b[39m\u001b[38;5;241m.\u001b[39m_make_engine(f, \u001b[38;5;28mself\u001b[39m\u001b[38;5;241m.\u001b[39mengine)\n",
      "File \u001b[1;32m~\\anaconda3\\Lib\\site-packages\\pandas\\io\\parsers\\readers.py:1735\u001b[0m, in \u001b[0;36mTextFileReader._make_engine\u001b[1;34m(self, f, engine)\u001b[0m\n\u001b[0;32m   1733\u001b[0m     \u001b[38;5;28;01mif\u001b[39;00m \u001b[38;5;124m\"\u001b[39m\u001b[38;5;124mb\u001b[39m\u001b[38;5;124m\"\u001b[39m \u001b[38;5;129;01mnot\u001b[39;00m \u001b[38;5;129;01min\u001b[39;00m mode:\n\u001b[0;32m   1734\u001b[0m         mode \u001b[38;5;241m+\u001b[39m\u001b[38;5;241m=\u001b[39m \u001b[38;5;124m\"\u001b[39m\u001b[38;5;124mb\u001b[39m\u001b[38;5;124m\"\u001b[39m\n\u001b[1;32m-> 1735\u001b[0m \u001b[38;5;28mself\u001b[39m\u001b[38;5;241m.\u001b[39mhandles \u001b[38;5;241m=\u001b[39m get_handle(\n\u001b[0;32m   1736\u001b[0m     f,\n\u001b[0;32m   1737\u001b[0m     mode,\n\u001b[0;32m   1738\u001b[0m     encoding\u001b[38;5;241m=\u001b[39m\u001b[38;5;28mself\u001b[39m\u001b[38;5;241m.\u001b[39moptions\u001b[38;5;241m.\u001b[39mget(\u001b[38;5;124m\"\u001b[39m\u001b[38;5;124mencoding\u001b[39m\u001b[38;5;124m\"\u001b[39m, \u001b[38;5;28;01mNone\u001b[39;00m),\n\u001b[0;32m   1739\u001b[0m     compression\u001b[38;5;241m=\u001b[39m\u001b[38;5;28mself\u001b[39m\u001b[38;5;241m.\u001b[39moptions\u001b[38;5;241m.\u001b[39mget(\u001b[38;5;124m\"\u001b[39m\u001b[38;5;124mcompression\u001b[39m\u001b[38;5;124m\"\u001b[39m, \u001b[38;5;28;01mNone\u001b[39;00m),\n\u001b[0;32m   1740\u001b[0m     memory_map\u001b[38;5;241m=\u001b[39m\u001b[38;5;28mself\u001b[39m\u001b[38;5;241m.\u001b[39moptions\u001b[38;5;241m.\u001b[39mget(\u001b[38;5;124m\"\u001b[39m\u001b[38;5;124mmemory_map\u001b[39m\u001b[38;5;124m\"\u001b[39m, \u001b[38;5;28;01mFalse\u001b[39;00m),\n\u001b[0;32m   1741\u001b[0m     is_text\u001b[38;5;241m=\u001b[39mis_text,\n\u001b[0;32m   1742\u001b[0m     errors\u001b[38;5;241m=\u001b[39m\u001b[38;5;28mself\u001b[39m\u001b[38;5;241m.\u001b[39moptions\u001b[38;5;241m.\u001b[39mget(\u001b[38;5;124m\"\u001b[39m\u001b[38;5;124mencoding_errors\u001b[39m\u001b[38;5;124m\"\u001b[39m, \u001b[38;5;124m\"\u001b[39m\u001b[38;5;124mstrict\u001b[39m\u001b[38;5;124m\"\u001b[39m),\n\u001b[0;32m   1743\u001b[0m     storage_options\u001b[38;5;241m=\u001b[39m\u001b[38;5;28mself\u001b[39m\u001b[38;5;241m.\u001b[39moptions\u001b[38;5;241m.\u001b[39mget(\u001b[38;5;124m\"\u001b[39m\u001b[38;5;124mstorage_options\u001b[39m\u001b[38;5;124m\"\u001b[39m, \u001b[38;5;28;01mNone\u001b[39;00m),\n\u001b[0;32m   1744\u001b[0m )\n\u001b[0;32m   1745\u001b[0m \u001b[38;5;28;01massert\u001b[39;00m \u001b[38;5;28mself\u001b[39m\u001b[38;5;241m.\u001b[39mhandles \u001b[38;5;129;01mis\u001b[39;00m \u001b[38;5;129;01mnot\u001b[39;00m \u001b[38;5;28;01mNone\u001b[39;00m\n\u001b[0;32m   1746\u001b[0m f \u001b[38;5;241m=\u001b[39m \u001b[38;5;28mself\u001b[39m\u001b[38;5;241m.\u001b[39mhandles\u001b[38;5;241m.\u001b[39mhandle\n",
      "File \u001b[1;32m~\\anaconda3\\Lib\\site-packages\\pandas\\io\\common.py:856\u001b[0m, in \u001b[0;36mget_handle\u001b[1;34m(path_or_buf, mode, encoding, compression, memory_map, is_text, errors, storage_options)\u001b[0m\n\u001b[0;32m    851\u001b[0m \u001b[38;5;28;01melif\u001b[39;00m \u001b[38;5;28misinstance\u001b[39m(handle, \u001b[38;5;28mstr\u001b[39m):\n\u001b[0;32m    852\u001b[0m     \u001b[38;5;66;03m# Check whether the filename is to be opened in binary mode.\u001b[39;00m\n\u001b[0;32m    853\u001b[0m     \u001b[38;5;66;03m# Binary mode does not support 'encoding' and 'newline'.\u001b[39;00m\n\u001b[0;32m    854\u001b[0m     \u001b[38;5;28;01mif\u001b[39;00m ioargs\u001b[38;5;241m.\u001b[39mencoding \u001b[38;5;129;01mand\u001b[39;00m \u001b[38;5;124m\"\u001b[39m\u001b[38;5;124mb\u001b[39m\u001b[38;5;124m\"\u001b[39m \u001b[38;5;129;01mnot\u001b[39;00m \u001b[38;5;129;01min\u001b[39;00m ioargs\u001b[38;5;241m.\u001b[39mmode:\n\u001b[0;32m    855\u001b[0m         \u001b[38;5;66;03m# Encoding\u001b[39;00m\n\u001b[1;32m--> 856\u001b[0m         handle \u001b[38;5;241m=\u001b[39m \u001b[38;5;28mopen\u001b[39m(\n\u001b[0;32m    857\u001b[0m             handle,\n\u001b[0;32m    858\u001b[0m             ioargs\u001b[38;5;241m.\u001b[39mmode,\n\u001b[0;32m    859\u001b[0m             encoding\u001b[38;5;241m=\u001b[39mioargs\u001b[38;5;241m.\u001b[39mencoding,\n\u001b[0;32m    860\u001b[0m             errors\u001b[38;5;241m=\u001b[39merrors,\n\u001b[0;32m    861\u001b[0m             newline\u001b[38;5;241m=\u001b[39m\u001b[38;5;124m\"\u001b[39m\u001b[38;5;124m\"\u001b[39m,\n\u001b[0;32m    862\u001b[0m         )\n\u001b[0;32m    863\u001b[0m     \u001b[38;5;28;01melse\u001b[39;00m:\n\u001b[0;32m    864\u001b[0m         \u001b[38;5;66;03m# Binary mode\u001b[39;00m\n\u001b[0;32m    865\u001b[0m         handle \u001b[38;5;241m=\u001b[39m \u001b[38;5;28mopen\u001b[39m(handle, ioargs\u001b[38;5;241m.\u001b[39mmode)\n",
      "\u001b[1;31mFileNotFoundError\u001b[0m: [Errno 2] No such file or directory: 'creditcard.csv/creditcard.csv'"
     ]
    }
   ],
   "source": [
    "df = pd.read_csv(\"creditcard.csv/creditcard.csv\")"
   ]
  },
  {
   "cell_type": "code",
   "execution_count": 13,
   "id": "8d735e0f",
   "metadata": {
    "execution": {
     "iopub.execute_input": "2023-08-02T07:27:07.763688Z",
     "iopub.status.busy": "2023-08-02T07:27:07.763249Z",
     "iopub.status.idle": "2023-08-02T07:27:07.806278Z",
     "shell.execute_reply": "2023-08-02T07:27:07.805002Z"
    },
    "papermill": {
     "duration": 0.060129,
     "end_time": "2023-08-02T07:27:07.808767",
     "exception": false,
     "start_time": "2023-08-02T07:27:07.748638",
     "status": "completed"
    },
    "tags": []
   },
   "outputs": [
    {
     "ename": "NameError",
     "evalue": "name 'df' is not defined",
     "output_type": "error",
     "traceback": [
      "\u001b[1;31m---------------------------------------------------------------------------\u001b[0m",
      "\u001b[1;31mNameError\u001b[0m                                 Traceback (most recent call last)",
      "Cell \u001b[1;32mIn[13], line 1\u001b[0m\n\u001b[1;32m----> 1\u001b[0m df\u001b[38;5;241m.\u001b[39mhead()\n",
      "\u001b[1;31mNameError\u001b[0m: name 'df' is not defined"
     ]
    }
   ],
   "source": [
    "df.head()"
   ]
  },
  {
   "cell_type": "code",
   "execution_count": 7,
   "id": "016ad9f2",
   "metadata": {
    "execution": {
     "iopub.execute_input": "2023-08-02T07:27:07.837786Z",
     "iopub.status.busy": "2023-08-02T07:27:07.836464Z",
     "iopub.status.idle": "2023-08-02T07:27:07.882443Z",
     "shell.execute_reply": "2023-08-02T07:27:07.881620Z"
    },
    "papermill": {
     "duration": 0.062964,
     "end_time": "2023-08-02T07:27:07.884960",
     "exception": false,
     "start_time": "2023-08-02T07:27:07.821996",
     "status": "completed"
    },
    "tags": []
   },
   "outputs": [
    {
     "name": "stdout",
     "output_type": "stream",
     "text": [
      "<class 'pandas.core.frame.DataFrame'>\n",
      "RangeIndex: 284807 entries, 0 to 284806\n",
      "Data columns (total 31 columns):\n",
      " #   Column  Non-Null Count   Dtype  \n",
      "---  ------  --------------   -----  \n",
      " 0   Time    284807 non-null  float64\n",
      " 1   V1      284807 non-null  float64\n",
      " 2   V2      284807 non-null  float64\n",
      " 3   V3      284807 non-null  float64\n",
      " 4   V4      284807 non-null  float64\n",
      " 5   V5      284807 non-null  float64\n",
      " 6   V6      284807 non-null  float64\n",
      " 7   V7      284807 non-null  float64\n",
      " 8   V8      284807 non-null  float64\n",
      " 9   V9      284807 non-null  float64\n",
      " 10  V10     284807 non-null  float64\n",
      " 11  V11     284807 non-null  float64\n",
      " 12  V12     284807 non-null  float64\n",
      " 13  V13     284807 non-null  float64\n",
      " 14  V14     284807 non-null  float64\n",
      " 15  V15     284807 non-null  float64\n",
      " 16  V16     284807 non-null  float64\n",
      " 17  V17     284807 non-null  float64\n",
      " 18  V18     284807 non-null  float64\n",
      " 19  V19     284807 non-null  float64\n",
      " 20  V20     284807 non-null  float64\n",
      " 21  V21     284807 non-null  float64\n",
      " 22  V22     284807 non-null  float64\n",
      " 23  V23     284807 non-null  float64\n",
      " 24  V24     284807 non-null  float64\n",
      " 25  V25     284807 non-null  float64\n",
      " 26  V26     284807 non-null  float64\n",
      " 27  V27     284807 non-null  float64\n",
      " 28  V28     284807 non-null  float64\n",
      " 29  Amount  284807 non-null  float64\n",
      " 30  Class   284807 non-null  int64  \n",
      "dtypes: float64(30), int64(1)\n",
      "memory usage: 67.4 MB\n"
     ]
    }
   ],
   "source": [
    "df.info()"
   ]
  },
  {
   "cell_type": "code",
   "execution_count": 14,
   "id": "27dc13bd",
   "metadata": {
    "execution": {
     "iopub.execute_input": "2023-08-02T07:27:07.914479Z",
     "iopub.status.busy": "2023-08-02T07:27:07.913185Z",
     "iopub.status.idle": "2023-08-02T07:27:07.921302Z",
     "shell.execute_reply": "2023-08-02T07:27:07.920089Z"
    },
    "papermill": {
     "duration": 0.02532,
     "end_time": "2023-08-02T07:27:07.923509",
     "exception": false,
     "start_time": "2023-08-02T07:27:07.898189",
     "status": "completed"
    },
    "tags": []
   },
   "outputs": [
    {
     "ename": "NameError",
     "evalue": "name 'df' is not defined",
     "output_type": "error",
     "traceback": [
      "\u001b[1;31m---------------------------------------------------------------------------\u001b[0m",
      "\u001b[1;31mNameError\u001b[0m                                 Traceback (most recent call last)",
      "Cell \u001b[1;32mIn[14], line 1\u001b[0m\n\u001b[1;32m----> 1\u001b[0m df\u001b[38;5;241m.\u001b[39mshape\n",
      "\u001b[1;31mNameError\u001b[0m: name 'df' is not defined"
     ]
    }
   ],
   "source": [
    "df.shape"
   ]
  },
  {
   "cell_type": "code",
   "execution_count": 5,
   "id": "8d74df2e",
   "metadata": {
    "execution": {
     "iopub.execute_input": "2023-08-02T07:27:07.952462Z",
     "iopub.status.busy": "2023-08-02T07:27:07.951679Z",
     "iopub.status.idle": "2023-08-02T07:27:07.964396Z",
     "shell.execute_reply": "2023-08-02T07:27:07.963169Z"
    },
    "papermill": {
     "duration": 0.030273,
     "end_time": "2023-08-02T07:27:07.967141",
     "exception": false,
     "start_time": "2023-08-02T07:27:07.936868",
     "status": "completed"
    },
    "tags": []
   },
   "outputs": [
    {
     "ename": "NameError",
     "evalue": "name 'df' is not defined",
     "output_type": "error",
     "traceback": [
      "\u001b[1;31m---------------------------------------------------------------------------\u001b[0m",
      "\u001b[1;31mNameError\u001b[0m                                 Traceback (most recent call last)",
      "Cell \u001b[1;32mIn[5], line 1\u001b[0m\n\u001b[1;32m----> 1\u001b[0m df[\u001b[38;5;124m\"\u001b[39m\u001b[38;5;124mClass\u001b[39m\u001b[38;5;124m\"\u001b[39m]\u001b[38;5;241m.\u001b[39mvalue_counts()\n",
      "\u001b[1;31mNameError\u001b[0m: name 'df' is not defined"
     ]
    }
   ],
   "source": [
    "df[\"Class\"].value_counts()"
   ]
  },
  {
   "cell_type": "markdown",
   "id": "b925bebb",
   "metadata": {
    "papermill": {
     "duration": 0.013683,
     "end_time": "2023-08-02T07:27:07.994520",
     "exception": false,
     "start_time": "2023-08-02T07:27:07.980837",
     "status": "completed"
    },
    "tags": []
   },
   "source": [
    "THIS DATASET IS HIGHLY UNBALANCED"
   ]
  },
  {
   "cell_type": "markdown",
   "id": "0286152b",
   "metadata": {
    "papermill": {
     "duration": 0.013105,
     "end_time": "2023-08-02T07:27:08.021715",
     "exception": false,
     "start_time": "2023-08-02T07:27:08.008610",
     "status": "completed"
    },
    "tags": []
   },
   "source": [
    "   0 -> NORMAL TRANSACTION,\n",
    "   1 -> FRAUDULENT TRANSACTION"
   ]
  },
  {
   "cell_type": "markdown",
   "id": "8d48c049",
   "metadata": {
    "papermill": {
     "duration": 0.013054,
     "end_time": "2023-08-02T07:27:08.048235",
     "exception": false,
     "start_time": "2023-08-02T07:27:08.035181",
     "status": "completed"
    },
    "tags": []
   },
   "source": [
    "**SEPARATING DATA FOR ANALYSIS**"
   ]
  },
  {
   "cell_type": "code",
   "execution_count": 6,
   "id": "d9ee8ba3",
   "metadata": {
    "execution": {
     "iopub.execute_input": "2023-08-02T07:27:08.077016Z",
     "iopub.status.busy": "2023-08-02T07:27:08.076565Z",
     "iopub.status.idle": "2023-08-02T07:27:08.135071Z",
     "shell.execute_reply": "2023-08-02T07:27:08.133834Z"
    },
    "papermill": {
     "duration": 0.076608,
     "end_time": "2023-08-02T07:27:08.138474",
     "exception": false,
     "start_time": "2023-08-02T07:27:08.061866",
     "status": "completed"
    },
    "tags": []
   },
   "outputs": [
    {
     "ename": "NameError",
     "evalue": "name 'df' is not defined",
     "output_type": "error",
     "traceback": [
      "\u001b[1;31m---------------------------------------------------------------------------\u001b[0m",
      "\u001b[1;31mNameError\u001b[0m                                 Traceback (most recent call last)",
      "Cell \u001b[1;32mIn[6], line 1\u001b[0m\n\u001b[1;32m----> 1\u001b[0m legit \u001b[38;5;241m=\u001b[39m df[df\u001b[38;5;241m.\u001b[39mClass \u001b[38;5;241m==\u001b[39m \u001b[38;5;241m0\u001b[39m]\n\u001b[0;32m      2\u001b[0m fraud \u001b[38;5;241m=\u001b[39m df[df\u001b[38;5;241m.\u001b[39mClass \u001b[38;5;241m==\u001b[39m \u001b[38;5;241m1\u001b[39m]\n",
      "\u001b[1;31mNameError\u001b[0m: name 'df' is not defined"
     ]
    }
   ],
   "source": [
    "legit = df[df.Class == 0]\n",
    "fraud = df[df.Class == 1]"
   ]
  },
  {
   "cell_type": "markdown",
   "id": "840874e4",
   "metadata": {
    "papermill": {
     "duration": 0.013575,
     "end_time": "2023-08-02T07:27:08.165966",
     "exception": false,
     "start_time": "2023-08-02T07:27:08.152391",
     "status": "completed"
    },
    "tags": []
   },
   "source": [
    "**STATISTICAL MEASURE OF DATA**"
   ]
  },
  {
   "cell_type": "code",
   "execution_count": 8,
   "id": "9623fb79",
   "metadata": {
    "execution": {
     "iopub.execute_input": "2023-08-02T07:27:08.196270Z",
     "iopub.status.busy": "2023-08-02T07:27:08.194865Z",
     "iopub.status.idle": "2023-08-02T07:27:08.221633Z",
     "shell.execute_reply": "2023-08-02T07:27:08.220367Z"
    },
    "papermill": {
     "duration": 0.044881,
     "end_time": "2023-08-02T07:27:08.224517",
     "exception": false,
     "start_time": "2023-08-02T07:27:08.179636",
     "status": "completed"
    },
    "tags": []
   },
   "outputs": [
    {
     "ename": "NameError",
     "evalue": "name 'legit' is not defined",
     "output_type": "error",
     "traceback": [
      "\u001b[1;31m---------------------------------------------------------------------------\u001b[0m",
      "\u001b[1;31mNameError\u001b[0m                                 Traceback (most recent call last)",
      "Cell \u001b[1;32mIn[8], line 1\u001b[0m\n\u001b[1;32m----> 1\u001b[0m legit\u001b[38;5;241m.\u001b[39mAmount\u001b[38;5;241m.\u001b[39mdescribe()\n",
      "\u001b[1;31mNameError\u001b[0m: name 'legit' is not defined"
     ]
    }
   ],
   "source": [
    "legit.Amount.describe()"
   ]
  },
  {
   "cell_type": "code",
   "execution_count": 9,
   "id": "8e201dce",
   "metadata": {
    "execution": {
     "iopub.execute_input": "2023-08-02T07:27:08.254326Z",
     "iopub.status.busy": "2023-08-02T07:27:08.253601Z",
     "iopub.status.idle": "2023-08-02T07:27:08.265184Z",
     "shell.execute_reply": "2023-08-02T07:27:08.263862Z"
    },
    "papermill": {
     "duration": 0.029601,
     "end_time": "2023-08-02T07:27:08.267982",
     "exception": false,
     "start_time": "2023-08-02T07:27:08.238381",
     "status": "completed"
    },
    "tags": []
   },
   "outputs": [
    {
     "ename": "NameError",
     "evalue": "name 'fraud' is not defined",
     "output_type": "error",
     "traceback": [
      "\u001b[1;31m---------------------------------------------------------------------------\u001b[0m",
      "\u001b[1;31mNameError\u001b[0m                                 Traceback (most recent call last)",
      "Cell \u001b[1;32mIn[9], line 1\u001b[0m\n\u001b[1;32m----> 1\u001b[0m fraud\u001b[38;5;241m.\u001b[39mAmount\u001b[38;5;241m.\u001b[39mdescribe()\n",
      "\u001b[1;31mNameError\u001b[0m: name 'fraud' is not defined"
     ]
    }
   ],
   "source": [
    "fraud.Amount.describe()"
   ]
  },
  {
   "cell_type": "markdown",
   "id": "9c08cd84",
   "metadata": {
    "papermill": {
     "duration": 0.013709,
     "end_time": "2023-08-02T07:27:08.296000",
     "exception": false,
     "start_time": "2023-08-02T07:27:08.282291",
     "status": "completed"
    },
    "tags": []
   },
   "source": [
    "COMPARE THE VALUES FOR BOTH TRANSACTIONS"
   ]
  },
  {
   "cell_type": "code",
   "execution_count": 10,
   "id": "33b7055d",
   "metadata": {
    "execution": {
     "iopub.execute_input": "2023-08-02T07:27:08.325962Z",
     "iopub.status.busy": "2023-08-02T07:27:08.325520Z",
     "iopub.status.idle": "2023-08-02T07:27:08.430237Z",
     "shell.execute_reply": "2023-08-02T07:27:08.428726Z"
    },
    "papermill": {
     "duration": 0.123251,
     "end_time": "2023-08-02T07:27:08.433497",
     "exception": false,
     "start_time": "2023-08-02T07:27:08.310246",
     "status": "completed"
    },
    "tags": []
   },
   "outputs": [
    {
     "ename": "NameError",
     "evalue": "name 'df' is not defined",
     "output_type": "error",
     "traceback": [
      "\u001b[1;31m---------------------------------------------------------------------------\u001b[0m",
      "\u001b[1;31mNameError\u001b[0m                                 Traceback (most recent call last)",
      "Cell \u001b[1;32mIn[10], line 1\u001b[0m\n\u001b[1;32m----> 1\u001b[0m df\u001b[38;5;241m.\u001b[39mgroupby(\u001b[38;5;124m\"\u001b[39m\u001b[38;5;124mClass\u001b[39m\u001b[38;5;124m\"\u001b[39m)\u001b[38;5;241m.\u001b[39mmean()\n",
      "\u001b[1;31mNameError\u001b[0m: name 'df' is not defined"
     ]
    }
   ],
   "source": [
    "df.groupby(\"Class\").mean()"
   ]
  },
  {
   "cell_type": "markdown",
   "id": "a2934540",
   "metadata": {
    "papermill": {
     "duration": 0.014113,
     "end_time": "2023-08-02T07:27:08.462153",
     "exception": false,
     "start_time": "2023-08-02T07:27:08.448040",
     "status": "completed"
    },
    "tags": []
   },
   "source": [
    "**UNDER SAMPLING**"
   ]
  },
  {
   "cell_type": "markdown",
   "id": "367022b4",
   "metadata": {
    "papermill": {
     "duration": 0.013862,
     "end_time": "2023-08-02T07:27:08.490232",
     "exception": false,
     "start_time": "2023-08-02T07:27:08.476370",
     "status": "completed"
    },
    "tags": []
   },
   "source": [
    "BUILD A SAMPLE DATASET CONTAINING SIMILAR DISTRIBUTION OF NORMAL TRANSACTIONS AND FRAUDULENT TRANSACTIONS"
   ]
  },
  {
   "cell_type": "markdown",
   "id": "243a80e5",
   "metadata": {
    "papermill": {
     "duration": 0.017771,
     "end_time": "2023-08-02T07:27:08.522306",
     "exception": false,
     "start_time": "2023-08-02T07:27:08.504535",
     "status": "completed"
    },
    "tags": []
   },
   "source": [
    "NUMBER OF FRAUDULENT TRANSACTIONS -> 492"
   ]
  },
  {
   "cell_type": "code",
   "execution_count": 10,
   "id": "83c810f6",
   "metadata": {
    "execution": {
     "iopub.execute_input": "2023-08-02T07:27:08.558312Z",
     "iopub.status.busy": "2023-08-02T07:27:08.557890Z",
     "iopub.status.idle": "2023-08-02T07:27:08.576842Z",
     "shell.execute_reply": "2023-08-02T07:27:08.575423Z"
    },
    "papermill": {
     "duration": 0.042156,
     "end_time": "2023-08-02T07:27:08.579987",
     "exception": false,
     "start_time": "2023-08-02T07:27:08.537831",
     "status": "completed"
    },
    "tags": []
   },
   "outputs": [],
   "source": [
    "legit_sample = legit.sample(n=492)"
   ]
  },
  {
   "cell_type": "markdown",
   "id": "169b9fa8",
   "metadata": {
    "papermill": {
     "duration": 0.016176,
     "end_time": "2023-08-02T07:27:08.617509",
     "exception": false,
     "start_time": "2023-08-02T07:27:08.601333",
     "status": "completed"
    },
    "tags": []
   },
   "source": [
    "**CONCATENATING TWO DATAFRAMES**"
   ]
  },
  {
   "cell_type": "code",
   "execution_count": 11,
   "id": "489982c4",
   "metadata": {
    "execution": {
     "iopub.execute_input": "2023-08-02T07:27:08.648184Z",
     "iopub.status.busy": "2023-08-02T07:27:08.647762Z",
     "iopub.status.idle": "2023-08-02T07:27:08.655154Z",
     "shell.execute_reply": "2023-08-02T07:27:08.653872Z"
    },
    "papermill": {
     "duration": 0.026188,
     "end_time": "2023-08-02T07:27:08.657989",
     "exception": false,
     "start_time": "2023-08-02T07:27:08.631801",
     "status": "completed"
    },
    "tags": []
   },
   "outputs": [],
   "source": [
    "new_df = pd.concat([legit_sample , fraud], axis = 0)"
   ]
  },
  {
   "cell_type": "code",
   "execution_count": 16,
   "id": "637132c4",
   "metadata": {
    "execution": {
     "iopub.execute_input": "2023-08-02T07:27:08.688954Z",
     "iopub.status.busy": "2023-08-02T07:27:08.688497Z",
     "iopub.status.idle": "2023-08-02T07:27:08.719431Z",
     "shell.execute_reply": "2023-08-02T07:27:08.718197Z"
    },
    "papermill": {
     "duration": 0.049383,
     "end_time": "2023-08-02T07:27:08.722120",
     "exception": false,
     "start_time": "2023-08-02T07:27:08.672737",
     "status": "completed"
    },
    "tags": []
   },
   "outputs": [
    {
     "data": {
      "text/html": [
       "<div>\n",
       "<style scoped>\n",
       "    .dataframe tbody tr th:only-of-type {\n",
       "        vertical-align: middle;\n",
       "    }\n",
       "\n",
       "    .dataframe tbody tr th {\n",
       "        vertical-align: top;\n",
       "    }\n",
       "\n",
       "    .dataframe thead th {\n",
       "        text-align: right;\n",
       "    }\n",
       "</style>\n",
       "<table border=\"1\" class=\"dataframe\">\n",
       "  <thead>\n",
       "    <tr style=\"text-align: right;\">\n",
       "      <th></th>\n",
       "      <th>Time</th>\n",
       "      <th>V1</th>\n",
       "      <th>V2</th>\n",
       "      <th>V3</th>\n",
       "      <th>V4</th>\n",
       "      <th>V5</th>\n",
       "      <th>V6</th>\n",
       "      <th>V7</th>\n",
       "      <th>V8</th>\n",
       "      <th>V9</th>\n",
       "      <th>...</th>\n",
       "      <th>V21</th>\n",
       "      <th>V22</th>\n",
       "      <th>V23</th>\n",
       "      <th>V24</th>\n",
       "      <th>V25</th>\n",
       "      <th>V26</th>\n",
       "      <th>V27</th>\n",
       "      <th>V28</th>\n",
       "      <th>Amount</th>\n",
       "      <th>Class</th>\n",
       "    </tr>\n",
       "  </thead>\n",
       "  <tbody>\n",
       "    <tr>\n",
       "      <th>25651</th>\n",
       "      <td>33708.0</td>\n",
       "      <td>1.314866</td>\n",
       "      <td>-0.292767</td>\n",
       "      <td>0.006326</td>\n",
       "      <td>-1.543643</td>\n",
       "      <td>-0.593059</td>\n",
       "      <td>-0.931553</td>\n",
       "      <td>-0.197190</td>\n",
       "      <td>-0.122438</td>\n",
       "      <td>1.029521</td>\n",
       "      <td>...</td>\n",
       "      <td>0.180091</td>\n",
       "      <td>0.649951</td>\n",
       "      <td>-0.221615</td>\n",
       "      <td>0.088492</td>\n",
       "      <td>0.694922</td>\n",
       "      <td>0.223010</td>\n",
       "      <td>-0.006262</td>\n",
       "      <td>-0.004281</td>\n",
       "      <td>1.00</td>\n",
       "      <td>0</td>\n",
       "    </tr>\n",
       "    <tr>\n",
       "      <th>74791</th>\n",
       "      <td>55756.0</td>\n",
       "      <td>1.222118</td>\n",
       "      <td>-0.054932</td>\n",
       "      <td>0.645684</td>\n",
       "      <td>0.761856</td>\n",
       "      <td>-0.760569</td>\n",
       "      <td>-0.691848</td>\n",
       "      <td>-0.194021</td>\n",
       "      <td>-0.038620</td>\n",
       "      <td>0.710121</td>\n",
       "      <td>...</td>\n",
       "      <td>-0.313973</td>\n",
       "      <td>-0.796030</td>\n",
       "      <td>0.093215</td>\n",
       "      <td>0.391167</td>\n",
       "      <td>0.276659</td>\n",
       "      <td>0.289391</td>\n",
       "      <td>-0.030922</td>\n",
       "      <td>0.013628</td>\n",
       "      <td>9.00</td>\n",
       "      <td>0</td>\n",
       "    </tr>\n",
       "    <tr>\n",
       "      <th>171650</th>\n",
       "      <td>120754.0</td>\n",
       "      <td>1.641183</td>\n",
       "      <td>-1.887732</td>\n",
       "      <td>-2.511239</td>\n",
       "      <td>-2.753439</td>\n",
       "      <td>0.022662</td>\n",
       "      <td>0.083265</td>\n",
       "      <td>0.080782</td>\n",
       "      <td>-0.128433</td>\n",
       "      <td>0.700667</td>\n",
       "      <td>...</td>\n",
       "      <td>-0.004942</td>\n",
       "      <td>0.240067</td>\n",
       "      <td>-0.066253</td>\n",
       "      <td>-0.327406</td>\n",
       "      <td>0.073075</td>\n",
       "      <td>-0.660551</td>\n",
       "      <td>0.036852</td>\n",
       "      <td>-0.017143</td>\n",
       "      <td>267.73</td>\n",
       "      <td>0</td>\n",
       "    </tr>\n",
       "    <tr>\n",
       "      <th>14370</th>\n",
       "      <td>25484.0</td>\n",
       "      <td>1.311151</td>\n",
       "      <td>0.245236</td>\n",
       "      <td>-0.315403</td>\n",
       "      <td>0.317876</td>\n",
       "      <td>0.469366</td>\n",
       "      <td>0.191061</td>\n",
       "      <td>-0.042013</td>\n",
       "      <td>0.042288</td>\n",
       "      <td>0.172323</td>\n",
       "      <td>...</td>\n",
       "      <td>-0.355547</td>\n",
       "      <td>-0.999260</td>\n",
       "      <td>-0.010631</td>\n",
       "      <td>-1.377054</td>\n",
       "      <td>0.319445</td>\n",
       "      <td>0.211983</td>\n",
       "      <td>-0.010517</td>\n",
       "      <td>0.012569</td>\n",
       "      <td>1.98</td>\n",
       "      <td>0</td>\n",
       "    </tr>\n",
       "    <tr>\n",
       "      <th>154639</th>\n",
       "      <td>102343.0</td>\n",
       "      <td>-3.287249</td>\n",
       "      <td>1.946977</td>\n",
       "      <td>-1.106755</td>\n",
       "      <td>1.242026</td>\n",
       "      <td>-0.979166</td>\n",
       "      <td>-0.432292</td>\n",
       "      <td>-0.428913</td>\n",
       "      <td>0.566942</td>\n",
       "      <td>1.215738</td>\n",
       "      <td>...</td>\n",
       "      <td>-0.241358</td>\n",
       "      <td>-0.294141</td>\n",
       "      <td>0.246366</td>\n",
       "      <td>0.057173</td>\n",
       "      <td>-1.214920</td>\n",
       "      <td>0.198766</td>\n",
       "      <td>-3.121665</td>\n",
       "      <td>-1.548884</td>\n",
       "      <td>1.98</td>\n",
       "      <td>0</td>\n",
       "    </tr>\n",
       "  </tbody>\n",
       "</table>\n",
       "<p>5 rows × 31 columns</p>\n",
       "</div>"
      ],
      "text/plain": [
       "            Time        V1        V2        V3        V4        V5        V6  \\\n",
       "25651    33708.0  1.314866 -0.292767  0.006326 -1.543643 -0.593059 -0.931553   \n",
       "74791    55756.0  1.222118 -0.054932  0.645684  0.761856 -0.760569 -0.691848   \n",
       "171650  120754.0  1.641183 -1.887732 -2.511239 -2.753439  0.022662  0.083265   \n",
       "14370    25484.0  1.311151  0.245236 -0.315403  0.317876  0.469366  0.191061   \n",
       "154639  102343.0 -3.287249  1.946977 -1.106755  1.242026 -0.979166 -0.432292   \n",
       "\n",
       "              V7        V8        V9  ...       V21       V22       V23  \\\n",
       "25651  -0.197190 -0.122438  1.029521  ...  0.180091  0.649951 -0.221615   \n",
       "74791  -0.194021 -0.038620  0.710121  ... -0.313973 -0.796030  0.093215   \n",
       "171650  0.080782 -0.128433  0.700667  ... -0.004942  0.240067 -0.066253   \n",
       "14370  -0.042013  0.042288  0.172323  ... -0.355547 -0.999260 -0.010631   \n",
       "154639 -0.428913  0.566942  1.215738  ... -0.241358 -0.294141  0.246366   \n",
       "\n",
       "             V24       V25       V26       V27       V28  Amount  Class  \n",
       "25651   0.088492  0.694922  0.223010 -0.006262 -0.004281    1.00      0  \n",
       "74791   0.391167  0.276659  0.289391 -0.030922  0.013628    9.00      0  \n",
       "171650 -0.327406  0.073075 -0.660551  0.036852 -0.017143  267.73      0  \n",
       "14370  -1.377054  0.319445  0.211983 -0.010517  0.012569    1.98      0  \n",
       "154639  0.057173 -1.214920  0.198766 -3.121665 -1.548884    1.98      0  \n",
       "\n",
       "[5 rows x 31 columns]"
      ]
     },
     "execution_count": 16,
     "metadata": {},
     "output_type": "execute_result"
    }
   ],
   "source": [
    "new_df.head()"
   ]
  },
  {
   "cell_type": "code",
   "execution_count": 12,
   "id": "2a8d0fa3",
   "metadata": {
    "execution": {
     "iopub.execute_input": "2023-08-02T07:27:08.753938Z",
     "iopub.status.busy": "2023-08-02T07:27:08.753485Z",
     "iopub.status.idle": "2023-08-02T07:27:08.763493Z",
     "shell.execute_reply": "2023-08-02T07:27:08.762295Z"
    },
    "papermill": {
     "duration": 0.028809,
     "end_time": "2023-08-02T07:27:08.765914",
     "exception": false,
     "start_time": "2023-08-02T07:27:08.737105",
     "status": "completed"
    },
    "tags": []
   },
   "outputs": [
    {
     "data": {
      "text/plain": [
       "0    492\n",
       "1    492\n",
       "Name: Class, dtype: int64"
      ]
     },
     "execution_count": 12,
     "metadata": {},
     "output_type": "execute_result"
    }
   ],
   "source": [
    "new_df[\"Class\"].value_counts()"
   ]
  },
  {
   "cell_type": "code",
   "execution_count": 13,
   "id": "e6311175",
   "metadata": {
    "execution": {
     "iopub.execute_input": "2023-08-02T07:27:08.798031Z",
     "iopub.status.busy": "2023-08-02T07:27:08.797639Z",
     "iopub.status.idle": "2023-08-02T07:27:08.826900Z",
     "shell.execute_reply": "2023-08-02T07:27:08.825956Z"
    },
    "papermill": {
     "duration": 0.048424,
     "end_time": "2023-08-02T07:27:08.829388",
     "exception": false,
     "start_time": "2023-08-02T07:27:08.780964",
     "status": "completed"
    },
    "tags": []
   },
   "outputs": [
    {
     "data": {
      "text/html": [
       "<div>\n",
       "<style scoped>\n",
       "    .dataframe tbody tr th:only-of-type {\n",
       "        vertical-align: middle;\n",
       "    }\n",
       "\n",
       "    .dataframe tbody tr th {\n",
       "        vertical-align: top;\n",
       "    }\n",
       "\n",
       "    .dataframe thead th {\n",
       "        text-align: right;\n",
       "    }\n",
       "</style>\n",
       "<table border=\"1\" class=\"dataframe\">\n",
       "  <thead>\n",
       "    <tr style=\"text-align: right;\">\n",
       "      <th></th>\n",
       "      <th>Time</th>\n",
       "      <th>V1</th>\n",
       "      <th>V2</th>\n",
       "      <th>V3</th>\n",
       "      <th>V4</th>\n",
       "      <th>V5</th>\n",
       "      <th>V6</th>\n",
       "      <th>V7</th>\n",
       "      <th>V8</th>\n",
       "      <th>V9</th>\n",
       "      <th>...</th>\n",
       "      <th>V20</th>\n",
       "      <th>V21</th>\n",
       "      <th>V22</th>\n",
       "      <th>V23</th>\n",
       "      <th>V24</th>\n",
       "      <th>V25</th>\n",
       "      <th>V26</th>\n",
       "      <th>V27</th>\n",
       "      <th>V28</th>\n",
       "      <th>Amount</th>\n",
       "    </tr>\n",
       "    <tr>\n",
       "      <th>Class</th>\n",
       "      <th></th>\n",
       "      <th></th>\n",
       "      <th></th>\n",
       "      <th></th>\n",
       "      <th></th>\n",
       "      <th></th>\n",
       "      <th></th>\n",
       "      <th></th>\n",
       "      <th></th>\n",
       "      <th></th>\n",
       "      <th></th>\n",
       "      <th></th>\n",
       "      <th></th>\n",
       "      <th></th>\n",
       "      <th></th>\n",
       "      <th></th>\n",
       "      <th></th>\n",
       "      <th></th>\n",
       "      <th></th>\n",
       "      <th></th>\n",
       "      <th></th>\n",
       "    </tr>\n",
       "  </thead>\n",
       "  <tbody>\n",
       "    <tr>\n",
       "      <th>0</th>\n",
       "      <td>94710.337398</td>\n",
       "      <td>-0.004721</td>\n",
       "      <td>0.053886</td>\n",
       "      <td>-0.007939</td>\n",
       "      <td>-0.101963</td>\n",
       "      <td>0.039380</td>\n",
       "      <td>0.074619</td>\n",
       "      <td>0.011611</td>\n",
       "      <td>0.004285</td>\n",
       "      <td>-0.035598</td>\n",
       "      <td>...</td>\n",
       "      <td>-0.015210</td>\n",
       "      <td>-0.024306</td>\n",
       "      <td>-0.067887</td>\n",
       "      <td>0.036210</td>\n",
       "      <td>-0.006975</td>\n",
       "      <td>0.010523</td>\n",
       "      <td>-0.001895</td>\n",
       "      <td>-0.006716</td>\n",
       "      <td>0.014470</td>\n",
       "      <td>80.111951</td>\n",
       "    </tr>\n",
       "    <tr>\n",
       "      <th>1</th>\n",
       "      <td>80746.806911</td>\n",
       "      <td>-4.771948</td>\n",
       "      <td>3.623778</td>\n",
       "      <td>-7.033281</td>\n",
       "      <td>4.542029</td>\n",
       "      <td>-3.151225</td>\n",
       "      <td>-1.397737</td>\n",
       "      <td>-5.568731</td>\n",
       "      <td>0.570636</td>\n",
       "      <td>-2.581123</td>\n",
       "      <td>...</td>\n",
       "      <td>0.372319</td>\n",
       "      <td>0.713588</td>\n",
       "      <td>0.014049</td>\n",
       "      <td>-0.040308</td>\n",
       "      <td>-0.105130</td>\n",
       "      <td>0.041449</td>\n",
       "      <td>0.051648</td>\n",
       "      <td>0.170575</td>\n",
       "      <td>0.075667</td>\n",
       "      <td>122.211321</td>\n",
       "    </tr>\n",
       "  </tbody>\n",
       "</table>\n",
       "<p>2 rows × 30 columns</p>\n",
       "</div>"
      ],
      "text/plain": [
       "               Time        V1        V2        V3        V4        V5  \\\n",
       "Class                                                                   \n",
       "0      94710.337398 -0.004721  0.053886 -0.007939 -0.101963  0.039380   \n",
       "1      80746.806911 -4.771948  3.623778 -7.033281  4.542029 -3.151225   \n",
       "\n",
       "             V6        V7        V8        V9  ...       V20       V21  \\\n",
       "Class                                          ...                       \n",
       "0      0.074619  0.011611  0.004285 -0.035598  ... -0.015210 -0.024306   \n",
       "1     -1.397737 -5.568731  0.570636 -2.581123  ...  0.372319  0.713588   \n",
       "\n",
       "            V22       V23       V24       V25       V26       V27       V28  \\\n",
       "Class                                                                         \n",
       "0     -0.067887  0.036210 -0.006975  0.010523 -0.001895 -0.006716  0.014470   \n",
       "1      0.014049 -0.040308 -0.105130  0.041449  0.051648  0.170575  0.075667   \n",
       "\n",
       "           Amount  \n",
       "Class              \n",
       "0       80.111951  \n",
       "1      122.211321  \n",
       "\n",
       "[2 rows x 30 columns]"
      ]
     },
     "execution_count": 13,
     "metadata": {},
     "output_type": "execute_result"
    }
   ],
   "source": [
    "new_df.groupby(\"Class\").mean()"
   ]
  },
  {
   "cell_type": "markdown",
   "id": "7468abe6",
   "metadata": {
    "papermill": {
     "duration": 0.014639,
     "end_time": "2023-08-02T07:27:08.859636",
     "exception": false,
     "start_time": "2023-08-02T07:27:08.844997",
     "status": "completed"
    },
    "tags": []
   },
   "source": [
    "**SPLITTING THE DATA INTO FEATURES AND TARGETS**"
   ]
  },
  {
   "cell_type": "code",
   "execution_count": 14,
   "id": "ee293dc7",
   "metadata": {
    "execution": {
     "iopub.execute_input": "2023-08-02T07:27:08.891825Z",
     "iopub.status.busy": "2023-08-02T07:27:08.891129Z",
     "iopub.status.idle": "2023-08-02T07:27:08.897706Z",
     "shell.execute_reply": "2023-08-02T07:27:08.896363Z"
    },
    "papermill": {
     "duration": 0.025422,
     "end_time": "2023-08-02T07:27:08.900323",
     "exception": false,
     "start_time": "2023-08-02T07:27:08.874901",
     "status": "completed"
    },
    "tags": []
   },
   "outputs": [],
   "source": [
    "X = new_df.drop(columns = \"Class\", axis=1)\n",
    "Y = new_df[\"Class\"]"
   ]
  },
  {
   "cell_type": "code",
   "execution_count": 18,
   "id": "ad74c243",
   "metadata": {
    "execution": {
     "iopub.execute_input": "2023-08-02T07:27:08.932913Z",
     "iopub.status.busy": "2023-08-02T07:27:08.932094Z",
     "iopub.status.idle": "2023-08-02T07:27:08.952444Z",
     "shell.execute_reply": "2023-08-02T07:27:08.951187Z"
    },
    "papermill": {
     "duration": 0.039582,
     "end_time": "2023-08-02T07:27:08.955249",
     "exception": false,
     "start_time": "2023-08-02T07:27:08.915667",
     "status": "completed"
    },
    "tags": []
   },
   "outputs": [
    {
     "name": "stdout",
     "output_type": "stream",
     "text": [
      "            Time        V1        V2        V3        V4        V5        V6  \\\n",
      "5253      5087.0  0.989228 -0.593941  1.071029  0.194283 -0.824501  0.596833   \n",
      "165292  117326.0 -0.200561  0.027684 -0.241402 -1.992654  2.460482  3.890078   \n",
      "52940    45725.0 -0.671622  0.881131  1.608816 -0.383154  0.499870 -0.636383   \n",
      "262352  160433.0  2.111519 -0.036044 -2.260689  0.089109  0.868772 -0.528819   \n",
      "92946    64180.0  0.790185 -0.691863  0.999747  1.567220 -1.259973 -0.227572   \n",
      "...          ...       ...       ...       ...       ...       ...       ...   \n",
      "279863  169142.0 -1.927883  1.125653 -4.518331  1.749293 -1.566487 -2.010494   \n",
      "280143  169347.0  1.378559  1.289381 -5.004247  1.411850  0.442581 -1.326536   \n",
      "280149  169351.0 -0.676143  1.126366 -2.213700  0.468308 -1.120541 -0.003346   \n",
      "281144  169966.0 -3.113832  0.585864 -5.399730  1.817092 -0.840618 -2.943548   \n",
      "281674  170348.0  1.991976  0.158476 -2.583441  0.408670  1.151147 -0.096695   \n",
      "\n",
      "              V7        V8        V9  ...       V20       V21       V22  \\\n",
      "5253   -0.845974  0.237445  2.105335  ...  0.068708 -0.156802 -0.201216   \n",
      "165292 -0.332155  1.127142  0.441805  ... -0.132168  0.309899  0.896232   \n",
      "52940   0.699571  0.034465 -0.571393  ... -0.065274 -0.214499 -0.728547   \n",
      "262352  0.472292 -0.215171  0.047921  ... -0.252173  0.110263  0.425802   \n",
      "92946  -0.392125  0.093115  0.899874  ...  0.174492  0.225601  0.318288   \n",
      "...          ...       ...       ...  ...       ...       ...       ...   \n",
      "279863 -0.882850  0.697211 -2.064945  ...  1.252967  0.778584 -0.319189   \n",
      "280143 -1.413170  0.248525 -1.127396  ...  0.226138  0.370612  0.028234   \n",
      "280149 -2.234739  1.210158 -0.652250  ...  0.247968  0.751826  0.834108   \n",
      "281144 -2.208002  1.058733 -1.632333  ...  0.306271  0.583276 -0.269209   \n",
      "281674  0.223050 -0.068384  0.577829  ... -0.017652 -0.164350 -0.295135   \n",
      "\n",
      "             V23       V24       V25       V26       V27       V28  Amount  \n",
      "5253   -0.030602 -0.290607  0.002989  0.975035 -0.064079  0.008407   95.72  \n",
      "165292  0.014889  0.749680 -0.978877  0.337641  0.218154  0.228672   11.50  \n",
      "52940  -0.097145  0.023041  0.230822  0.047186 -0.061347 -0.016292    4.47  \n",
      "262352 -0.045916  0.280934  0.384318  0.696027 -0.124466 -0.095338    0.76  \n",
      "92946  -0.244231  0.368881  0.388970 -0.258061  0.022267  0.066770  200.00  \n",
      "...          ...       ...       ...       ...       ...       ...     ...  \n",
      "279863  0.639419 -0.294885  0.537503  0.788395  0.292680  0.147968  390.00  \n",
      "280143 -0.145640 -0.081049  0.521875  0.739467  0.389152  0.186637    0.76  \n",
      "280149  0.190944  0.032070 -0.739695  0.471111  0.385107  0.194361   77.89  \n",
      "281144 -0.456108 -0.183659 -0.328168  0.606116  0.884876 -0.253700  245.00  \n",
      "281674 -0.072173 -0.450261  0.313267 -0.289617  0.002988 -0.015309   42.53  \n",
      "\n",
      "[984 rows x 30 columns]\n"
     ]
    }
   ],
   "source": [
    "print(X)"
   ]
  },
  {
   "cell_type": "code",
   "execution_count": 15,
   "id": "7fc02ba0",
   "metadata": {
    "execution": {
     "iopub.execute_input": "2023-08-02T07:27:08.987470Z",
     "iopub.status.busy": "2023-08-02T07:27:08.987076Z",
     "iopub.status.idle": "2023-08-02T07:27:08.994245Z",
     "shell.execute_reply": "2023-08-02T07:27:08.993131Z"
    },
    "papermill": {
     "duration": 0.026282,
     "end_time": "2023-08-02T07:27:08.996839",
     "exception": false,
     "start_time": "2023-08-02T07:27:08.970557",
     "status": "completed"
    },
    "tags": []
   },
   "outputs": [
    {
     "name": "stdout",
     "output_type": "stream",
     "text": [
      "92606     0\n",
      "214660    0\n",
      "79320     0\n",
      "157067    0\n",
      "104265    0\n",
      "         ..\n",
      "279863    1\n",
      "280143    1\n",
      "280149    1\n",
      "281144    1\n",
      "281674    1\n",
      "Name: Class, Length: 984, dtype: int64\n"
     ]
    }
   ],
   "source": [
    "print(Y)"
   ]
  },
  {
   "cell_type": "markdown",
   "id": "ed6dfa93",
   "metadata": {
    "papermill": {
     "duration": 0.015431,
     "end_time": "2023-08-02T07:27:09.028322",
     "exception": false,
     "start_time": "2023-08-02T07:27:09.012891",
     "status": "completed"
    },
    "tags": []
   },
   "source": [
    "**SPLITTING DATA INTO TRAINING DATA AND TESTING DATA**"
   ]
  },
  {
   "cell_type": "code",
   "execution_count": 16,
   "id": "adcca5d7",
   "metadata": {
    "execution": {
     "iopub.execute_input": "2023-08-02T07:27:09.061396Z",
     "iopub.status.busy": "2023-08-02T07:27:09.060988Z",
     "iopub.status.idle": "2023-08-02T07:27:09.072669Z",
     "shell.execute_reply": "2023-08-02T07:27:09.070931Z"
    },
    "papermill": {
     "duration": 0.031137,
     "end_time": "2023-08-02T07:27:09.075578",
     "exception": false,
     "start_time": "2023-08-02T07:27:09.044441",
     "status": "completed"
    },
    "tags": []
   },
   "outputs": [],
   "source": [
    "X_train, X_test, Y_train, Y_test = train_test_split(X, Y, test_size = 0.2, stratify = Y, random_state = 2)"
   ]
  },
  {
   "cell_type": "code",
   "execution_count": 17,
   "id": "01616d1e",
   "metadata": {
    "execution": {
     "iopub.execute_input": "2023-08-02T07:27:09.108396Z",
     "iopub.status.busy": "2023-08-02T07:27:09.107986Z",
     "iopub.status.idle": "2023-08-02T07:27:09.114277Z",
     "shell.execute_reply": "2023-08-02T07:27:09.113013Z"
    },
    "papermill": {
     "duration": 0.025935,
     "end_time": "2023-08-02T07:27:09.117252",
     "exception": false,
     "start_time": "2023-08-02T07:27:09.091317",
     "status": "completed"
    },
    "tags": []
   },
   "outputs": [
    {
     "name": "stdout",
     "output_type": "stream",
     "text": [
      "(984, 30) (787, 30) (197, 30)\n"
     ]
    }
   ],
   "source": [
    "print(X.shape, X_train.shape, X_test.shape)"
   ]
  },
  {
   "cell_type": "markdown",
   "id": "7571b802",
   "metadata": {
    "papermill": {
     "duration": 0.015127,
     "end_time": "2023-08-02T07:27:09.148221",
     "exception": false,
     "start_time": "2023-08-02T07:27:09.133094",
     "status": "completed"
    },
    "tags": []
   },
   "source": [
    "**MODEL TRAINING**"
   ]
  },
  {
   "cell_type": "markdown",
   "id": "bb85a537",
   "metadata": {
    "papermill": {
     "duration": 0.01577,
     "end_time": "2023-08-02T07:27:09.179784",
     "exception": false,
     "start_time": "2023-08-02T07:27:09.164014",
     "status": "completed"
    },
    "tags": []
   },
   "source": [
    "LOGISTIC REGRESSION"
   ]
  },
  {
   "cell_type": "code",
   "execution_count": 18,
   "id": "3647da83",
   "metadata": {
    "execution": {
     "iopub.execute_input": "2023-08-02T07:27:09.214212Z",
     "iopub.status.busy": "2023-08-02T07:27:09.213806Z",
     "iopub.status.idle": "2023-08-02T07:27:09.219280Z",
     "shell.execute_reply": "2023-08-02T07:27:09.217954Z"
    },
    "papermill": {
     "duration": 0.025248,
     "end_time": "2023-08-02T07:27:09.222004",
     "exception": false,
     "start_time": "2023-08-02T07:27:09.196756",
     "status": "completed"
    },
    "tags": []
   },
   "outputs": [],
   "source": [
    "model = LogisticRegression()"
   ]
  },
  {
   "cell_type": "markdown",
   "id": "e3f9b0ed",
   "metadata": {
    "papermill": {
     "duration": 0.015594,
     "end_time": "2023-08-02T07:27:09.253080",
     "exception": false,
     "start_time": "2023-08-02T07:27:09.237486",
     "status": "completed"
    },
    "tags": []
   },
   "source": [
    "TRAINING THE LOGISTIC REGRESSION MODEL WITH TRAINING DATA"
   ]
  },
  {
   "cell_type": "code",
   "execution_count": 19,
   "id": "1805f8c2",
   "metadata": {
    "execution": {
     "iopub.execute_input": "2023-08-02T07:27:09.285918Z",
     "iopub.status.busy": "2023-08-02T07:27:09.285444Z",
     "iopub.status.idle": "2023-08-02T07:27:09.360703Z",
     "shell.execute_reply": "2023-08-02T07:27:09.358923Z"
    },
    "papermill": {
     "duration": 0.096421,
     "end_time": "2023-08-02T07:27:09.365049",
     "exception": false,
     "start_time": "2023-08-02T07:27:09.268628",
     "status": "completed"
    },
    "tags": []
   },
   "outputs": [
    {
     "data": {
      "text/html": [
       "<style>#sk-container-id-1 {color: black;background-color: white;}#sk-container-id-1 pre{padding: 0;}#sk-container-id-1 div.sk-toggleable {background-color: white;}#sk-container-id-1 label.sk-toggleable__label {cursor: pointer;display: block;width: 100%;margin-bottom: 0;padding: 0.3em;box-sizing: border-box;text-align: center;}#sk-container-id-1 label.sk-toggleable__label-arrow:before {content: \"▸\";float: left;margin-right: 0.25em;color: #696969;}#sk-container-id-1 label.sk-toggleable__label-arrow:hover:before {color: black;}#sk-container-id-1 div.sk-estimator:hover label.sk-toggleable__label-arrow:before {color: black;}#sk-container-id-1 div.sk-toggleable__content {max-height: 0;max-width: 0;overflow: hidden;text-align: left;background-color: #f0f8ff;}#sk-container-id-1 div.sk-toggleable__content pre {margin: 0.2em;color: black;border-radius: 0.25em;background-color: #f0f8ff;}#sk-container-id-1 input.sk-toggleable__control:checked~div.sk-toggleable__content {max-height: 200px;max-width: 100%;overflow: auto;}#sk-container-id-1 input.sk-toggleable__control:checked~label.sk-toggleable__label-arrow:before {content: \"▾\";}#sk-container-id-1 div.sk-estimator input.sk-toggleable__control:checked~label.sk-toggleable__label {background-color: #d4ebff;}#sk-container-id-1 div.sk-label input.sk-toggleable__control:checked~label.sk-toggleable__label {background-color: #d4ebff;}#sk-container-id-1 input.sk-hidden--visually {border: 0;clip: rect(1px 1px 1px 1px);clip: rect(1px, 1px, 1px, 1px);height: 1px;margin: -1px;overflow: hidden;padding: 0;position: absolute;width: 1px;}#sk-container-id-1 div.sk-estimator {font-family: monospace;background-color: #f0f8ff;border: 1px dotted black;border-radius: 0.25em;box-sizing: border-box;margin-bottom: 0.5em;}#sk-container-id-1 div.sk-estimator:hover {background-color: #d4ebff;}#sk-container-id-1 div.sk-parallel-item::after {content: \"\";width: 100%;border-bottom: 1px solid gray;flex-grow: 1;}#sk-container-id-1 div.sk-label:hover label.sk-toggleable__label {background-color: #d4ebff;}#sk-container-id-1 div.sk-serial::before {content: \"\";position: absolute;border-left: 1px solid gray;box-sizing: border-box;top: 0;bottom: 0;left: 50%;z-index: 0;}#sk-container-id-1 div.sk-serial {display: flex;flex-direction: column;align-items: center;background-color: white;padding-right: 0.2em;padding-left: 0.2em;position: relative;}#sk-container-id-1 div.sk-item {position: relative;z-index: 1;}#sk-container-id-1 div.sk-parallel {display: flex;align-items: stretch;justify-content: center;background-color: white;position: relative;}#sk-container-id-1 div.sk-item::before, #sk-container-id-1 div.sk-parallel-item::before {content: \"\";position: absolute;border-left: 1px solid gray;box-sizing: border-box;top: 0;bottom: 0;left: 50%;z-index: -1;}#sk-container-id-1 div.sk-parallel-item {display: flex;flex-direction: column;z-index: 1;position: relative;background-color: white;}#sk-container-id-1 div.sk-parallel-item:first-child::after {align-self: flex-end;width: 50%;}#sk-container-id-1 div.sk-parallel-item:last-child::after {align-self: flex-start;width: 50%;}#sk-container-id-1 div.sk-parallel-item:only-child::after {width: 0;}#sk-container-id-1 div.sk-dashed-wrapped {border: 1px dashed gray;margin: 0 0.4em 0.5em 0.4em;box-sizing: border-box;padding-bottom: 0.4em;background-color: white;}#sk-container-id-1 div.sk-label label {font-family: monospace;font-weight: bold;display: inline-block;line-height: 1.2em;}#sk-container-id-1 div.sk-label-container {text-align: center;}#sk-container-id-1 div.sk-container {/* jupyter's `normalize.less` sets `[hidden] { display: none; }` but bootstrap.min.css set `[hidden] { display: none !important; }` so we also need the `!important` here to be able to override the default hidden behavior on the sphinx rendered scikit-learn.org. See: https://github.com/scikit-learn/scikit-learn/issues/21755 */display: inline-block !important;position: relative;}#sk-container-id-1 div.sk-text-repr-fallback {display: none;}</style><div id=\"sk-container-id-1\" class=\"sk-top-container\"><div class=\"sk-text-repr-fallback\"><pre>LogisticRegression()</pre><b>In a Jupyter environment, please rerun this cell to show the HTML representation or trust the notebook. <br />On GitHub, the HTML representation is unable to render, please try loading this page with nbviewer.org.</b></div><div class=\"sk-container\" hidden><div class=\"sk-item\"><div class=\"sk-estimator sk-toggleable\"><input class=\"sk-toggleable__control sk-hidden--visually\" id=\"sk-estimator-id-1\" type=\"checkbox\" checked><label for=\"sk-estimator-id-1\" class=\"sk-toggleable__label sk-toggleable__label-arrow\">LogisticRegression</label><div class=\"sk-toggleable__content\"><pre>LogisticRegression()</pre></div></div></div></div></div>"
      ],
      "text/plain": [
       "LogisticRegression()"
      ]
     },
     "execution_count": 19,
     "metadata": {},
     "output_type": "execute_result"
    }
   ],
   "source": [
    "model.fit(X_train, Y_train)"
   ]
  },
  {
   "cell_type": "markdown",
   "id": "1e09e9f9",
   "metadata": {
    "papermill": {
     "duration": 0.034905,
     "end_time": "2023-08-02T07:27:09.433696",
     "exception": false,
     "start_time": "2023-08-02T07:27:09.398791",
     "status": "completed"
    },
    "tags": []
   },
   "source": [
    "**MODEL EVALUAION**"
   ]
  },
  {
   "cell_type": "markdown",
   "id": "e0020e7d",
   "metadata": {
    "papermill": {
     "duration": 0.015315,
     "end_time": "2023-08-02T07:27:09.480162",
     "exception": false,
     "start_time": "2023-08-02T07:27:09.464847",
     "status": "completed"
    },
    "tags": []
   },
   "source": [
    "ACCURACY SCORE"
   ]
  },
  {
   "cell_type": "markdown",
   "id": "a847ce43",
   "metadata": {
    "papermill": {
     "duration": 0.015696,
     "end_time": "2023-08-02T07:27:09.511532",
     "exception": false,
     "start_time": "2023-08-02T07:27:09.495836",
     "status": "completed"
    },
    "tags": []
   },
   "source": [
    "ACCURACY ON TRAINING DATA"
   ]
  },
  {
   "cell_type": "code",
   "execution_count": 20,
   "id": "b0bd3a1b",
   "metadata": {
    "execution": {
     "iopub.execute_input": "2023-08-02T07:27:09.548091Z",
     "iopub.status.busy": "2023-08-02T07:27:09.547045Z",
     "iopub.status.idle": "2023-08-02T07:27:09.558716Z",
     "shell.execute_reply": "2023-08-02T07:27:09.557055Z"
    },
    "papermill": {
     "duration": 0.033526,
     "end_time": "2023-08-02T07:27:09.562888",
     "exception": false,
     "start_time": "2023-08-02T07:27:09.529362",
     "status": "completed"
    },
    "tags": []
   },
   "outputs": [],
   "source": [
    "X_train_predict = model.predict(X_train)\n",
    "training_data_accuracy = accuracy_score(X_train_predict, Y_train)"
   ]
  },
  {
   "cell_type": "code",
   "execution_count": 21,
   "id": "b8e49d4f",
   "metadata": {
    "execution": {
     "iopub.execute_input": "2023-08-02T07:27:09.633473Z",
     "iopub.status.busy": "2023-08-02T07:27:09.632653Z",
     "iopub.status.idle": "2023-08-02T07:27:09.640652Z",
     "shell.execute_reply": "2023-08-02T07:27:09.639537Z"
    },
    "papermill": {
     "duration": 0.048411,
     "end_time": "2023-08-02T07:27:09.644727",
     "exception": false,
     "start_time": "2023-08-02T07:27:09.596316",
     "status": "completed"
    },
    "tags": []
   },
   "outputs": [
    {
     "name": "stdout",
     "output_type": "stream",
     "text": [
      "ACCURACY ON TRAINING DATA: 0.9212198221092758\n"
     ]
    }
   ],
   "source": [
    "print(\"ACCURACY ON TRAINING DATA:\", training_data_accuracy)"
   ]
  },
  {
   "cell_type": "markdown",
   "id": "9fd5cc90",
   "metadata": {
    "papermill": {
     "duration": 0.0161,
     "end_time": "2023-08-02T07:27:09.692859",
     "exception": false,
     "start_time": "2023-08-02T07:27:09.676759",
     "status": "completed"
    },
    "tags": []
   },
   "source": [
    "ACCURACY ON TESTING DATA"
   ]
  },
  {
   "cell_type": "code",
   "execution_count": 22,
   "id": "74d768fa",
   "metadata": {
    "execution": {
     "iopub.execute_input": "2023-08-02T07:27:09.726245Z",
     "iopub.status.busy": "2023-08-02T07:27:09.725823Z",
     "iopub.status.idle": "2023-08-02T07:27:09.734305Z",
     "shell.execute_reply": "2023-08-02T07:27:09.733349Z"
    },
    "papermill": {
     "duration": 0.027951,
     "end_time": "2023-08-02T07:27:09.736629",
     "exception": false,
     "start_time": "2023-08-02T07:27:09.708678",
     "status": "completed"
    },
    "tags": []
   },
   "outputs": [],
   "source": [
    "X_test_predict = model.predict(X_test)\n",
    "testing_data_accuracy = accuracy_score(X_test_predict, Y_test)"
   ]
  },
  {
   "cell_type": "code",
   "execution_count": 23,
   "id": "7c2fb7df",
   "metadata": {
    "execution": {
     "iopub.execute_input": "2023-08-02T07:27:09.771617Z",
     "iopub.status.busy": "2023-08-02T07:27:09.770848Z",
     "iopub.status.idle": "2023-08-02T07:27:09.776246Z",
     "shell.execute_reply": "2023-08-02T07:27:09.775054Z"
    },
    "papermill": {
     "duration": 0.025055,
     "end_time": "2023-08-02T07:27:09.778460",
     "exception": false,
     "start_time": "2023-08-02T07:27:09.753405",
     "status": "completed"
    },
    "tags": []
   },
   "outputs": [
    {
     "name": "stdout",
     "output_type": "stream",
     "text": [
      "ACCURACY ON TESTING DATA: 0.8781725888324873\n"
     ]
    }
   ],
   "source": [
    "print(\"ACCURACY ON TESTING DATA:\", testing_data_accuracy)"
   ]
  },
  {
   "cell_type": "code",
   "execution_count": null,
   "id": "3054c266",
   "metadata": {},
   "outputs": [],
   "source": []
  }
 ],
 "metadata": {
  "kernelspec": {
   "display_name": "Python 3 (ipykernel)",
   "language": "python",
   "name": "python3"
  },
  "language_info": {
   "codemirror_mode": {
    "name": "ipython",
    "version": 3
   },
   "file_extension": ".py",
   "mimetype": "text/x-python",
   "name": "python",
   "nbconvert_exporter": "python",
   "pygments_lexer": "ipython3",
   "version": "3.11.3"
  },
  "papermill": {
   "default_parameters": {},
   "duration": 21.933949,
   "end_time": "2023-08-02T07:27:10.818043",
   "environment_variables": {},
   "exception": null,
   "input_path": "__notebook__.ipynb",
   "output_path": "__notebook__.ipynb",
   "parameters": {},
   "start_time": "2023-08-02T07:26:48.884094",
   "version": "2.4.0"
  }
 },
 "nbformat": 4,
 "nbformat_minor": 5
}
